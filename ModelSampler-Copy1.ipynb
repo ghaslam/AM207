{
 "cells": [
  {
   "cell_type": "code",
   "execution_count": 3,
   "metadata": {
    "collapsed": true
   },
   "outputs": [],
   "source": [
    "import pandas as pd\n",
    "import numpy as np\n",
    "from sklearn.neighbors import KNeighborsClassifier\n",
    "import matplotlib.pyplot as plt\n",
    "%matplotlib inline"
   ]
  },
  {
   "cell_type": "code",
   "execution_count": 4,
   "metadata": {
    "collapsed": true
   },
   "outputs": [],
   "source": [
    "def logprior(b, sigma2):\n",
    "    #flat prior\n",
    "    return -np.log(sigma2)\n",
    "    #conjugate prior??\n",
    "    #return - b[0]**2*2 - b[1]1**2*2 - 2.0*np.log(sigma2) - 0.5/sigma2\n",
    "    \n",
    "def logistic(x, b):\n",
    "    #x[0]: t\n",
    "    #x[1]: h\n",
    "    #x[2]: w\n",
    "    theta = b[0] + x[0]*b[1] + x[1]*b[2] + x[2]*b[3]\n",
    "    return 1.0/(1+np.exp(theta))\n",
    "\n",
    "def loglikelihood(b, sigma2, x, y):\n",
    "    n = len(x)\n",
    "    return -n*np.log(sigma2) - 0.5*((y-logistic(x, b))**2).sum()/sigma2\n",
    "\n",
    "def logpost(b, sigma2, x, y):\n",
    "    return logprior(b, sigma2) + loglikelihood(b, sigma2, x, y)"
   ]
  },
  {
   "cell_type": "code",
   "execution_count": 117,
   "metadata": {
    "collapsed": true
   },
   "outputs": [],
   "source": [
    "# mcmc algorithm\n",
    "def mcmc(b_init, sig2, x, y, N, burnin, be, sig2e):\n",
    "    B = np.zeros((N,len(b_init)))\n",
    "    Sig2 = np.zeros(N)\n",
    "    \n",
    "    b_prev = b_init\n",
    "    sig2_prev = sig2\n",
    "    count = 0\n",
    "    r = np.random.random(N)\n",
    "    \n",
    "    for i in xrange(N):\n",
    "        b_star = np.random.normal(b_prev,be)\n",
    "\n",
    "        sig2_star = abs(np.random.normal(sig2_prev, sig2e))\n",
    "        \n",
    "        p = logpost(b_star, sig2_star, x, y) - logpost(b_prev, sig2_prev, x, y)\n",
    "        if np.log(r[i]) < p:\n",
    "            b_prev = b_star\n",
    "            sig2_prev = sig2_star\n",
    "            count += 1\n",
    "                           \n",
    "        B[i] = b_prev\n",
    "        Sig2[i] = sig2_prev\n",
    "    print \"The acceptance rate is \"+ str(float(count)/N)+\".\"\n",
    "    #return B, Sig2\n",
    "    return np.vstack((B[:,0],B[:,1],B[:,2],B[:,3],Sig2[burnin:]))"
   ]
  },
  {
   "cell_type": "code",
   "execution_count": 6,
   "metadata": {
    "collapsed": false
   },
   "outputs": [],
   "source": [
    "#import data and labels\n",
    "train_data = pd.read_csv('Waterpump-training-values.csv')\n",
    "train_labels = pd.read_csv('Waterpump-training-labels.csv')\n",
    "\n",
    "#separating dataset into training and testing for cross-validation\n",
    "np.random.seed(142)\n",
    "test_idx = np.random.uniform(0, 1, len(train_data)) <= 0.7\n",
    "train = train_data[test_idx==True]\n",
    "trainLabels = train_labels[test_idx==True]\n",
    "test = train_data[test_idx==False]\n",
    "testLabels = train_labels[test_idx==False]\n"
   ]
  },
  {
   "cell_type": "markdown",
   "metadata": {},
   "source": [
    "I would want to get rid of all rows missing any of the data before running the sampler."
   ]
  },
  {
   "cell_type": "code",
   "execution_count": 7,
   "metadata": {
    "collapsed": false
   },
   "outputs": [],
   "source": [
    "train = train[train['longitude'] > 1]\n",
    "train = train[train['latitude'] < 0]\n",
    "train = train[train['construction_year'] != 0]\n",
    "train = train[train['gps_height'] != 0]\n",
    "\n",
    "\n",
    "features = ['longitude','latitude']\n",
    "trainLoc = train[features]\n",
    "#hasLocIdx = train['longitude']>1\n",
    "#trainLoc = trainLoc[hasLocIdx] #remove rows with empty location data\n",
    "#trainLoc.head()\n",
    "#hasLocIdx.head()\n",
    "\n",
    "trainID = train['id']\n",
    "trainLabelsLoc = trainLabels[trainLabels['id'].isin(trainID)] #only keep labels corresponding to rows with non-empty location data\n"
   ]
  },
  {
   "cell_type": "code",
   "execution_count": 8,
   "metadata": {
    "collapsed": false
   },
   "outputs": [
    {
     "data": {
      "text/plain": [
       "KNeighborsClassifier(algorithm='auto', leaf_size=30, metric='minkowski',\n",
       "           metric_params=None, n_neighbors=60, p=2, weights='distance')"
      ]
     },
     "execution_count": 8,
     "metadata": {},
     "output_type": "execute_result"
    }
   ],
   "source": [
    "nNeighbors = 60\n",
    "clf = KNeighborsClassifier(n_neighbors=nNeighbors,weights='distance',algorithm='auto')\n",
    "clf.fit(trainLoc[features], trainLabelsLoc['status_group'])\n",
    "#preds = clf.predict(test[features])"
   ]
  },
  {
   "cell_type": "code",
   "execution_count": 9,
   "metadata": {
    "collapsed": false
   },
   "outputs": [
    {
     "name": "stderr",
     "output_type": "stream",
     "text": [
      "/anaconda/lib/python2.7/site-packages/IPython/kernel/__main__.py:3: SettingWithCopyWarning: \n",
      "A value is trying to be set on a copy of a slice from a DataFrame.\n",
      "Try using .loc[row_indexer,col_indexer] = value instead\n",
      "\n",
      "See the the caveats in the documentation: http://pandas.pydata.org/pandas-docs/stable/indexing.html#indexing-view-versus-copy\n",
      "  app.launch_new_instance()\n"
     ]
    }
   ],
   "source": [
    "features=['construction_year', 'gps_height']\n",
    "trainFeatures = train[features]\n",
    "trainFeatures['age'] = 2015 - trainFeatures['construction_year']\n",
    "trainFeatures = trainFeatures.drop('construction_year', 1)\n",
    "#trainFeatures.head()"
   ]
  },
  {
   "cell_type": "code",
   "execution_count": 10,
   "metadata": {
    "collapsed": false
   },
   "outputs": [],
   "source": [
    "kNNFunctional = clf.predict_proba(trainFeatures)[:,0]\n",
    "#TODO: get more meaningful data out of kNN algorithm?\n",
    "x = np.vstack((trainFeatures['age'],trainFeatures['gps_height'],kNNFunctional))"
   ]
  },
  {
   "cell_type": "code",
   "execution_count": 11,
   "metadata": {
    "collapsed": false
   },
   "outputs": [],
   "source": [
    "trainLabels = trainLabels[trainLabels['id'].isin(trainID)] #get rid of Labels for which there is no corresponding data\n",
    "\n",
    "numFeatures = 3\n",
    "numBeta = numFeatures + 1  #1 more for the constant\n",
    "#TODO: Convert labels into numbers\n",
    "trainLabelsVect = pd.get_dummies(trainLabels['status_group'])\n",
    "trainLabelsVect['functionality'] = trainLabelsVect['functional'] + 0.5*trainLabelsVect['functional needs repair']\n",
    "\n",
    "#B, sig2= mcmc(np.zeros(numBeta), 0.2, x, trainLabelsVect['functionality'], 100, 0, 0.5, 0.5)"
   ]
  },
  {
   "cell_type": "code",
   "execution_count": 12,
   "metadata": {
    "collapsed": false
   },
   "outputs": [
    {
     "name": "stdout",
     "output_type": "stream",
     "text": [
      "The acceptance rate is 0.0042.\n"
     ]
    }
   ],
   "source": [
    "B, sig2= mcmc(np.zeros(numBeta), 0.2, x, trainLabelsVect['functionality'], 10000, 0, 0.1, 0.1)"
   ]
  },
  {
   "cell_type": "code",
   "execution_count": 238,
   "metadata": {
    "collapsed": false
   },
   "outputs": [
    {
     "name": "stdout",
     "output_type": "stream",
     "text": [
      "0.0557293894857\n"
     ]
    },
    {
     "data": {
      "image/png": "[encoded data removed]",
      "text/plain": [
       "<matplotlib.figure.Figure at 0x10dfc3d50>"
      ]
     },
     "metadata": {},
     "output_type": "display_data"
    }
   ],
   "source": [
    "plt.plot(B[:,0])\n",
    "plt.plot(B[:,1])\n",
    "plt.plot(B[:,2])\n",
    "plt.plot(B[:,3])\n",
    "print np.mean(B[:,1])"
   ]
  },
  {
   "cell_type": "code",
   "execution_count": 121,
   "metadata": {
    "collapsed": false
   },
   "outputs": [
    {
     "data": {
      "text/plain": [
       "[<matplotlib.lines.Line2D at 0x10bf62390>]"
      ]
     },
     "execution_count": 121,
     "metadata": {},
     "output_type": "execute_result"
    },
    {
     "data": {
      "image/png": "[encoded data removed]",
      "text/plain": [
       "<matplotlib.figure.Figure at 0x10d4c7f10>"
      ]
     },
     "metadata": {},
     "output_type": "display_data"
    }
   ],
   "source": [
    "plt.plot(sig2)"
   ]
  },
  {
   "cell_type": "markdown",
   "metadata": {},
   "source": [
    "Do Geweke Test to see if trace has converged. Burn-in looks to be around 2000."
   ]
  },
  {
   "cell_type": "code",
   "execution_count": 103,
   "metadata": {
    "collapsed": true
   },
   "outputs": [],
   "source": [
    "# autocorrelation with lag t\n",
    "def rhot(x, t):\n",
    "    n = len(x)\n",
    "    return np.corrcoef(x[0:(n-t)], x[t:n])[0,1]\n",
    "\n",
    "# Geweke function\n",
    "def Geweke(trace, intervals, length):\n",
    "    # take two parts of the chain. \n",
    "    # subsample lenght \n",
    "    nsl=length\n",
    "    jump = int(0.9*len(trace)/(2*intervals))\n",
    "    first = 0.1*len(trace)\n",
    "    z =np.empty(intervals)\n",
    "    for k in np.arange(0, intervals):\n",
    "        # beg of each sub samples\n",
    "        bega=first+k*jump\n",
    "        begb = len(trace)/2 + k*jump\n",
    "        \n",
    "        sub_trace_a = trace[bega:bega+nsl]\n",
    "        sub_trace_b = trace[begb:begb+nsl]\n",
    "        \n",
    "        theta_a = np.mean(sub_trace_a)\n",
    "        theta_b = np.mean(sub_trace_b)\n",
    "        rho_a, rho_b = 1.0, 1.0\n",
    "        # only compute autocorrelation at lag 1-0.1*nsl.\n",
    "        for i in xrange(int(0.1*nsl)):\n",
    "            rho_a += 2*rhot(sub_trace_a, i+1)\n",
    "            rho_b += 2*rhot(sub_trace_b, i+1)\n",
    "            \n",
    "        # estimate the variance roughly\n",
    "        var_a  = np.var(sub_trace_a)*rho_a/length\n",
    "        var_b  = np.var(sub_trace_b)*rho_b/length\n",
    "        \n",
    "        z[k] = (theta_a-theta_b)/np.sqrt( var_a + var_b)\n",
    "    \n",
    "    return z\n",
    "\n"
   ]
  },
  {
   "cell_type": "code",
   "execution_count": 240,
   "metadata": {
    "collapsed": false
   },
   "outputs": [
    {
     "data": {
      "image/png": "[encoded data removed]",
      "text/plain": [
       "<matplotlib.figure.Figure at 0x10b7ea150>"
      ]
     },
     "metadata": {},
     "output_type": "display_data"
    }
   ],
   "source": [
    "burnin = 2000\n",
    "gewekeB0 = Geweke(B[burnin:,0], 10, 5000)\n",
    "gewekeB1 = Geweke(B[burnin:,1], 10, 5000)\n",
    "gewekeB2 = Geweke(B[burnin:,2], 10, 5000)\n",
    "gewekeB3 = Geweke(B[burnin:,3], 10, 5000)\n",
    "gewekesig2 = Geweke(sig2[3000:], 10, 300)\n",
    "\n",
    "plt.figure(1)\n",
    "plt.subplot(211)\n",
    "plt.plot(gewekeB0)\n",
    "plt.plot(gewekeB1)\n",
    "plt.plot(gewekeB2)\n",
    "plt.plot(gewekeB3)\n",
    "plt.ylim((-2,2))\n",
    "\n",
    "plt.subplot(212)\n",
    "plt.plot(gewekesig2)\n",
    "plt.ylim((-5,10))\n",
    "plt.show()"
   ]
  },
  {
   "cell_type": "markdown",
   "metadata": {},
   "source": [
    "Make predictions:"
   ]
  },
  {
   "cell_type": "code",
   "execution_count": 162,
   "metadata": {
    "collapsed": false
   },
   "outputs": [],
   "source": [
    "# show posterior mean and variance\n",
    "def post_ana(res):\n",
    "    mean = res.mean(axis = 1)\n",
    "    sd = np.zeros(4)\n",
    "    sd[0] = np.std(res[:, 0])\n",
    "    sd[1] = np.std(res[:, 1])\n",
    "    sd[2] = np.std(res[:, 2])\n",
    "    sd[3] = np.std(res[:, 3])\n",
    "    print \"The posterior mean and standard deviation for beta0 are \"+str(mean[0])+\" and \"+str(sd[0])+\".\"\n",
    "    print \"The posterior mean and standard deviation for beta are \"+str(mean[1])+\" and \"+str(sd[1])+\".\"\n",
    "    print \"The posterior mean and standard deviation for sigma2 are \"+str(mean[2])+\" and \"+str(sd[2])+\".\"\n",
    "\n",
    "# compute the predictive intervals at each x \n",
    "def predict(res, x, y, m):\n",
    "    n = len(x)\n",
    "    print \"n: \", n\n",
    "    print \"x.shape: \", (x.shape)\n",
    "    x = x.reshape((n,1))\n",
    "    print \"x.shape: \", (x.shape)\n",
    "\n",
    "    count = 0\n",
    "    #print \"res shape: \",res[:10]\n",
    "    print \"res.shape: \", (res.shape)\n",
    "    #res = res.reshape((m,5))\n",
    "    #print \"res.shape: \", (res.shape)\n",
    "\n",
    "    #Result = np.zeros((n, res.shape[1]*m))\n",
    "    Result = np.zeros((n,(res.shape[1]*m)))\n",
    "    print \"Result: \", Result.shape\n",
    "    #print \"res[2,0]: \", res[3,0]\n",
    "    \n",
    "    for i in xrange(res.shape[1]):\n",
    "        Result[:,(i*m):(i*m+m)] = np.random.normal(scale = 0.001, size=m*n).reshape((n,m)) + np.repeat(res[0,i]+res[1,i]*x,m, axis=1)\n",
    "        #Result[3,(i*m):(i*m+m)] = np.random.normal(scale = 0.001, size=m*n).reshape((n,m)) + np.repeat(res[0,i]+res[1,i]*x,m, axis=1)\n",
    "\n",
    "    bounds = np.zeros((n,2))\n",
    "    for i in xrange(n):\n",
    "        bounds[i,:] = np.percentile(Result[i,:], [2.5,97.5])\n",
    "        if y[i] < bounds[i,1] and y[i] > bounds[i,0]:\n",
    "            count += 1\n",
    "    print \"There are \"+str(count) +\" yis out of \"+str(n) +\" that falls in the predictive interval.\"\n",
    "    return bounds"
   ]
  },
  {
   "cell_type": "code",
   "execution_count": 130,
   "metadata": {
    "collapsed": false
   },
   "outputs": [
    {
     "name": "stdout",
     "output_type": "stream",
     "text": [
      "(26563, 1)\n",
      "[ 0.         0.         0.         0.         0.         0.         0.         0.\n",
      "  0.        -0.0276128]\n"
     ]
    }
   ],
   "source": [
    "b = x[0,:]\n",
    "\n",
    "c = np.vstack(b)\n",
    "print c.shape \n",
    "#(2,3)\n",
    "print B[:10,2]"
   ]
  },
  {
   "cell_type": "code",
   "execution_count": 118,
   "metadata": {
    "collapsed": false
   },
   "outputs": [
    {
     "name": "stdout",
     "output_type": "stream",
     "text": [
      "The acceptance rate is 0.0121.\n"
     ]
    }
   ],
   "source": [
    "#def mcmc(b_init, sig2, x, y, N, burnin, be, sig2e):\n",
    "\n",
    "\n",
    "res_gaussian_flat = mcmc(np.zeros(numBeta), 0.2, x, trainLabelsVect['functionality'], 10000, 0, 0.1, 0.1)\n",
    "#bounds_gaussian_flat = predict(B[:,2], c, trainLabelsVect['functionality'], 26563)\n",
    "#np.zeros(numBeta), 0.2, x, ,\n",
    "#post_ana(res_gaussian_flat)"
   ]
  },
  {
   "cell_type": "code",
   "execution_count": 166,
   "metadata": {
    "collapsed": false
   },
   "outputs": [
    {
     "data": {
      "text/plain": [
       "array([ 0.        ,  0.        ,  0.        , ...,  7.77026562,\n",
       "        7.77026562,  7.77026562])"
      ]
     },
     "execution_count": 166,
     "metadata": {},
     "output_type": "execute_result"
    }
   ],
   "source": [
    "#get rid of extra columns just to see if I can make the data fit the same format as the original code from HW7 and just get it working\n",
    "elim = [3,4]\n",
    "np.delete(res_gaussian_flat, elim)"
   ]
  },
  {
   "cell_type": "code",
   "execution_count": 167,
   "metadata": {
    "collapsed": false
   },
   "outputs": [
    {
     "name": "stdout",
     "output_type": "stream",
     "text": [
      "n:  26563\n",
      "x.shape:  (26563,)\n",
      "x.shape:  (26563, 1)\n",
      "res.shape:  (5, 10000)\n",
      "Result:  (26563, 1000000)\n"
     ]
    },
    {
     "ename": "KeyboardInterrupt",
     "evalue": "",
     "output_type": "error",
     "traceback": [
      "\u001b[0;31m---------------------------------------------------------------------------\u001b[0m",
      "\u001b[0;31mKeyboardInterrupt\u001b[0m                         Traceback (most recent call last)",
      "\u001b[0;32m<ipython-input-167-83086bfa4a8d>\u001b[0m in \u001b[0;36m<module>\u001b[0;34m()\u001b[0m\n\u001b[0;32m----> 1\u001b[0;31m \u001b[0mbounds_gaussian_flat\u001b[0m \u001b[0;34m=\u001b[0m \u001b[0mpredict\u001b[0m\u001b[0;34m(\u001b[0m\u001b[0mres_gaussian_flat\u001b[0m\u001b[0;34m,\u001b[0m \u001b[0mx\u001b[0m\u001b[0;34m[\u001b[0m\u001b[0;36m0\u001b[0m\u001b[0;34m,\u001b[0m\u001b[0;34m:\u001b[0m\u001b[0;34m]\u001b[0m\u001b[0;34m,\u001b[0m \u001b[0mtrainLabelsVect\u001b[0m\u001b[0;34m[\u001b[0m\u001b[0;34m'functionality'\u001b[0m\u001b[0;34m]\u001b[0m\u001b[0;34m,\u001b[0m \u001b[0;36m100\u001b[0m\u001b[0;34m)\u001b[0m\u001b[0;34m\u001b[0m\u001b[0m\n\u001b[0m\u001b[1;32m      2\u001b[0m \u001b[0;34m\u001b[0m\u001b[0m\n\u001b[1;32m      3\u001b[0m \u001b[0;31m#bounds_gaussian_flat = predict(res_gaussian_flat, x, y, m, \"gaussian\")\u001b[0m\u001b[0;34m\u001b[0m\u001b[0;34m\u001b[0m\u001b[0m\n\u001b[1;32m      4\u001b[0m \u001b[0;34m\u001b[0m\u001b[0m\n",
      "\u001b[0;32m<ipython-input-162-48c2fa7e1393>\u001b[0m in \u001b[0;36mpredict\u001b[0;34m(res, x, y, m)\u001b[0m\n\u001b[1;32m     31\u001b[0m \u001b[0;34m\u001b[0m\u001b[0m\n\u001b[1;32m     32\u001b[0m     \u001b[0;32mfor\u001b[0m \u001b[0mi\u001b[0m \u001b[0;32min\u001b[0m \u001b[0mxrange\u001b[0m\u001b[0;34m(\u001b[0m\u001b[0mres\u001b[0m\u001b[0;34m.\u001b[0m\u001b[0mshape\u001b[0m\u001b[0;34m[\u001b[0m\u001b[0;36m1\u001b[0m\u001b[0;34m]\u001b[0m\u001b[0;34m)\u001b[0m\u001b[0;34m:\u001b[0m\u001b[0;34m\u001b[0m\u001b[0m\n\u001b[0;32m---> 33\u001b[0;31m         \u001b[0mResult\u001b[0m\u001b[0;34m[\u001b[0m\u001b[0;34m:\u001b[0m\u001b[0;34m,\u001b[0m\u001b[0;34m(\u001b[0m\u001b[0mi\u001b[0m\u001b[0;34m*\u001b[0m\u001b[0mm\u001b[0m\u001b[0;34m)\u001b[0m\u001b[0;34m:\u001b[0m\u001b[0;34m(\u001b[0m\u001b[0mi\u001b[0m\u001b[0;34m*\u001b[0m\u001b[0mm\u001b[0m\u001b[0;34m+\u001b[0m\u001b[0mm\u001b[0m\u001b[0;34m)\u001b[0m\u001b[0;34m]\u001b[0m \u001b[0;34m=\u001b[0m \u001b[0mnp\u001b[0m\u001b[0;34m.\u001b[0m\u001b[0mrandom\u001b[0m\u001b[0;34m.\u001b[0m\u001b[0mnormal\u001b[0m\u001b[0;34m(\u001b[0m\u001b[0mscale\u001b[0m \u001b[0;34m=\u001b[0m \u001b[0;36m0.001\u001b[0m\u001b[0;34m,\u001b[0m \u001b[0msize\u001b[0m\u001b[0;34m=\u001b[0m\u001b[0mm\u001b[0m\u001b[0;34m*\u001b[0m\u001b[0mn\u001b[0m\u001b[0;34m)\u001b[0m\u001b[0;34m.\u001b[0m\u001b[0mreshape\u001b[0m\u001b[0;34m(\u001b[0m\u001b[0;34m(\u001b[0m\u001b[0mn\u001b[0m\u001b[0;34m,\u001b[0m\u001b[0mm\u001b[0m\u001b[0;34m)\u001b[0m\u001b[0;34m)\u001b[0m \u001b[0;34m+\u001b[0m \u001b[0mnp\u001b[0m\u001b[0;34m.\u001b[0m\u001b[0mrepeat\u001b[0m\u001b[0;34m(\u001b[0m\u001b[0mres\u001b[0m\u001b[0;34m[\u001b[0m\u001b[0;36m0\u001b[0m\u001b[0;34m,\u001b[0m\u001b[0mi\u001b[0m\u001b[0;34m]\u001b[0m\u001b[0;34m+\u001b[0m\u001b[0mres\u001b[0m\u001b[0;34m[\u001b[0m\u001b[0;36m1\u001b[0m\u001b[0;34m,\u001b[0m\u001b[0mi\u001b[0m\u001b[0;34m]\u001b[0m\u001b[0;34m*\u001b[0m\u001b[0mx\u001b[0m\u001b[0;34m,\u001b[0m\u001b[0mm\u001b[0m\u001b[0;34m,\u001b[0m \u001b[0maxis\u001b[0m\u001b[0;34m=\u001b[0m\u001b[0;36m1\u001b[0m\u001b[0;34m)\u001b[0m\u001b[0;34m\u001b[0m\u001b[0m\n\u001b[0m\u001b[1;32m     34\u001b[0m         \u001b[0;31m#Result[3,(i*m):(i*m+m)] = np.random.normal(scale = 0.001, size=m*n).reshape((n,m)) + np.repeat(res[0,i]+res[1,i]*x,m, axis=1)\u001b[0m\u001b[0;34m\u001b[0m\u001b[0;34m\u001b[0m\u001b[0m\n\u001b[1;32m     35\u001b[0m \u001b[0;34m\u001b[0m\u001b[0m\n",
      "\u001b[0;31mKeyboardInterrupt\u001b[0m: "
     ]
    }
   ],
   "source": [
    "bounds_gaussian_flat = predict(res_gaussian_flat, x[0,:], trainLabelsVect['functionality'], 100)\n",
    "\n",
    "#bounds_gaussian_flat = predict(res_gaussian_flat, x, y, m, \"gaussian\") \n",
    "\n"
   ]
  },
  {
   "cell_type": "code",
   "execution_count": null,
   "metadata": {
    "collapsed": true
   },
   "outputs": [],
   "source": []
  }
 ],
 "metadata": {
  "kernelspec": {
   "display_name": "Python 2",
   "language": "python",
   "name": "python2"
  },
  "language_info": {
   "codemirror_mode": {
    "name": "ipython",
    "version": 2
   },
   "file_extension": ".py",
   "mimetype": "text/x-python",
   "name": "python",
   "nbconvert_exporter": "python",
   "pygments_lexer": "ipython2",
   "version": "2.7.9"
  }
 },
 "nbformat": 4,
 "nbformat_minor": 0
}
