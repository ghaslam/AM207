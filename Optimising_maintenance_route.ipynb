{
 "cells": [
  {
   "cell_type": "markdown",
   "metadata": {},
   "source": [
    "###Optimising Maintenance Schedule\n",
    "In this part, we aim to determine the shortest route that will allow the maintenance crew to fix all the various wells that are either in need of repair or not functional. Some factors which we may wish to consider:\n",
    "\n",
    "i) Can we assign a higher priority to wells which are not functional as opposed to those that are merely not working?\n",
    "\n",
    "ii) Can we take advantage of route information to concentrate on higher quality roads?\n",
    "\n",
    "Initially we will ignore differences in location, height etc. and assume that all points on the map are equally accessible. To calculate the pairwise distance between points we need to take account of the fact that the Earth is a sphere so we need to use the Haversine formula: \n",
    "\n",
    "$$\\rm{haversin} \\Big(\\frac{d}{r}\\Big) = \\rm{haversin}(\\phi_2 - \\phi_1) + \\rm{cos}(\\phi_1)\\,\\,\\rm{cos}(\\phi_2)\\,\\,\\rm{haversin}(\\lambda_1 - \\lambda_2)$$\n",
    "\n",
    "$$\\rm{haversin}(\\theta) = \\rm{sin}^2\\Big(\\frac{\\theta}{2}\\Big) = \\frac{1 - \\rm{cos}(\\theta)}{2} $$\n",
    "\n",
    "where $d$ is the distance between the two points, $r$ is the radius of the sphere (Earth), $\\phi$ is the latitude and $\\theta$ is the longitude. This can be rearranged to give the following formula as described in (R. W. Sinnott, \"Virtues of the Haversine,\" Sky and Telescope, vol. 68, no. 2, 1984, p. 159):\n",
    "\n",
    "  $$\\rm{dlon} = \\rm{lon2} - \\rm{lon1}$$\n",
    "  $$\\rm{dlat} = \\rm{lat2} - \\rm{lat1}$$\n",
    "  $$\\rm{a} = (\\rm{sin}(\\frac{dlat}{2}))^2 + cos(lat1) \\times cos(lat2) \\times (sin(\\frac{dlon}{2}))^2$$\n",
    "  $$\\rm{c} = 2 \\times \\rm{arctan}(\\frac{\\sqrt{a}}{\\sqrt{1-a}})$$ \n",
    "  $$\\rm{d} = \\rm{R} \\times \\rm{c}$$\n"
   ]
  },
  {
   "cell_type": "code",
   "execution_count": null,
   "metadata": {
    "collapsed": true
   },
   "outputs": [],
   "source": [
    "def getDistanceByHaversine(latitudes, longitudes):\n",
    "    '''Haversine formula - give coordinates as a 2D numpy array of\n",
    "    (lat_decimal,lon_decimal) pairs'''\n",
    "    \n",
    "    # earth's mean radius = 6,371km\n",
    "    EARTHRADIUS = 6371.0\n",
    "    \n",
    "    # create meshgrid:\n",
    "    lat, lon = np.meshgrid(latitudes, longitudes)\n",
    "    \n",
    "    # convert to radians\n",
    "    lat *= np.pi / 180.0\n",
    "    lon *= np.pi / 180.0\n",
    "    \n",
    "    # get transposed meshgrids for distances\n",
    "    lat_T = lat.T.copy()\n",
    "    lon_T = lon.T.copy()\n",
    "\n",
    "    dlon = lon_T - lon\n",
    "    dlat = lat_T - lat\n",
    "    \n",
    "    a = (np.sin(dlat/2))**2 + np.cos(lat) * np.cos(lat_T) * (np.sin(dlon/2.0))**2\n",
    "    c = 2.0 * np.arctan2(np.sqrt(a), np.sqrt(1.0-a))\n",
    "    km = EARTHRADIUS * c\n",
    "    return km"
   ]
  }
 ],
 "metadata": {
  "kernelspec": {
   "display_name": "Python 2",
   "language": "python",
   "name": "python2"
  },
  "language_info": {
   "codemirror_mode": {
    "name": "ipython",
    "version": 2
   },
   "file_extension": ".py",
   "mimetype": "text/x-python",
   "name": "python",
   "nbconvert_exporter": "python",
   "pygments_lexer": "ipython2",
   "version": "2.7.9"
  }
 },
 "nbformat": 4,
 "nbformat_minor": 0
}
