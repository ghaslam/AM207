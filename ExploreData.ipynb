{
 "cells": [
  {
   "cell_type": "markdown",
   "metadata": {},
   "source": [
    "#####Notebook for Data exploration"
   ]
  },
  {
   "cell_type": "code",
   "execution_count": 28,
   "metadata": {
    "collapsed": true
   },
   "outputs": [],
   "source": [
    "import numpy as np\n",
    "import sklearn\n",
    "import csv\n",
    "from sklearn.feature_extraction import DictVectorizer"
   ]
  },
  {
   "cell_type": "code",
   "execution_count": 4,
   "metadata": {
    "collapsed": true
   },
   "outputs": [],
   "source": [
    "train_file = \"WaterPump-training-values.csv\"\n",
    "train_labels = \"WaterPump-training-labels.csv\"\n",
    "test_file = \"WaterPump-test-values.csv\"\n",
    "\n",
    "def getData(lines=None, step=1, fileName=\"WaterPump-training-values.csv\"):\n",
    "    #method to import part or all of data from CSV into list\n",
    "    #lines: how many lines to read; None means read to end of file\n",
    "    #step: step size, so step=2 would read every 2nd line\n",
    "    reader = csv.DictReader(open(fileName, 'rU'))\n",
    "    result = []\n",
    "    \n",
    "    i=0\n",
    "    #read to end of file, skipping lines if necessary\n",
    "    if lines==None:\n",
    "        for row in reader:\n",
    "            if i%step==0:\n",
    "                result.append(row)\n",
    "            i += 1\n",
    "    \n",
    "    #read until specified number of lines are stored\n",
    "    for row in reader:\n",
    "        if i>=lines*step:\n",
    "            break\n",
    "        if i%step==0:\n",
    "            result.append(row)\n",
    "        i += 1\n",
    "    \n",
    "    return result"
   ]
  },
  {
   "cell_type": "code",
   "execution_count": 20,
   "metadata": {
    "collapsed": false
   },
   "outputs": [
    {
     "name": "stdout",
     "output_type": "stream",
     "text": [
      "[{'extraction_type': 'gravity', 'region_code': '11', 'gps_height': '1390', 'recorded_by': 'GeoData Consultants Ltd', 'longitude': '34.93809275', 'construction_year': '1999', 'installer': 'Roman', 'id': '69572', 'scheme_management': 'VWC', 'scheme_name': 'Roman', 'management': 'vwc', 'quantity_group': 'enough', 'source_class': 'groundwater', 'source': 'spring', 'subvillage': 'Mnyusi B', 'public_meeting': 'True', 'num_private': '0', 'latitude': '-9.85632177', 'waterpoint_type_group': 'communal standpipe', 'basin': 'Lake Nyasa', 'extraction_type_class': 'gravity', 'waterpoint_type': 'communal standpipe', 'wpt_name': 'none', 'management_group': 'user-group', 'lga': 'Ludewa', 'source_type': 'spring', 'district_code': '5', 'ward': 'Mundindi', 'payment': 'pay annually', 'population': '109', 'date_recorded': '2011-03-14', 'extraction_type_group': 'gravity', 'region': 'Iringa', 'amount_tsh': '6000.0', 'quality_group': 'good', 'payment_type': 'annually', 'water_quality': 'soft', 'permit': 'False', 'funder': 'Roman', 'quantity': 'enough'}, {'extraction_type': 'gravity', 'region_code': '20', 'gps_height': '1399', 'recorded_by': 'GeoData Consultants Ltd', 'longitude': '34.6987661', 'construction_year': '2010', 'installer': 'GRUMETI', 'id': '8776', 'scheme_management': 'Other', 'scheme_name': '', 'management': 'wug', 'quantity_group': 'insufficient', 'source_class': 'surface', 'source': 'rainwater harvesting', 'subvillage': 'Nyamara', 'public_meeting': '', 'num_private': '0', 'latitude': '-2.14746569', 'waterpoint_type_group': 'communal standpipe', 'basin': 'Lake Victoria', 'extraction_type_class': 'gravity', 'waterpoint_type': 'communal standpipe', 'wpt_name': 'Zahanati', 'management_group': 'user-group', 'lga': 'Serengeti', 'source_type': 'rainwater harvesting', 'district_code': '2', 'ward': 'Natta', 'payment': 'never pay', 'population': '280', 'date_recorded': '2013-03-06', 'extraction_type_group': 'gravity', 'region': 'Mara', 'amount_tsh': '0.0', 'quality_group': 'good', 'payment_type': 'never pay', 'water_quality': 'soft', 'permit': 'True', 'funder': 'Grumeti', 'quantity': 'insufficient'}]\n"
     ]
    }
   ],
   "source": [
    "sampleData = getData(5)\n",
    "print sampleData[:2]"
   ]
  },
  {
   "cell_type": "code",
   "execution_count": 18,
   "metadata": {
    "collapsed": false
   },
   "outputs": [],
   "source": [
    "def quantData(data):\n",
    "    #getData() reads everything as string, so this changes appropriate continuous variables to ints/floats\n",
    "    #TODO: how to deal with dates? ('date_recorded')\n",
    "    for row in data:\n",
    "        row['longitude'] = float(row['longitude'])\n",
    "        row['latitude'] = float(row['latitude'])\n",
    "        row['gps_height'] = int(row['gps_height'])\n",
    "        row['region_code'] = int(row['region_code'])\n",
    "        row['district_code'] = int(row['district_code'])\n",
    "        row['amount_tsh'] = float(row['amount_tsh'])\n",
    "        row['population'] = float(row['population'])\n",
    "        row['construction_year'] = float(row['construction_year'])\n",
    "        row['num_private'] = int(row['num_private'])  #what the heck is this??\n",
    "    return data\n",
    "\n",
    "def vectorizeData(data):\n",
    "    #vectorize data, data should be dictionary\n",
    "    #http://nbviewer.ipython.org/gist/sarguido/7423289\n",
    "    pass"
   ]
  },
  {
   "cell_type": "code",
   "execution_count": 21,
   "metadata": {
    "collapsed": false
   },
   "outputs": [
    {
     "name": "stdout",
     "output_type": "stream",
     "text": [
      "[{'extraction_type': 'gravity', 'region_code': 11, 'gps_height': 1390, 'recorded_by': 'GeoData Consultants Ltd', 'longitude': 34.93809275, 'construction_year': '1999', 'installer': 'Roman', 'id': '69572', 'scheme_management': 'VWC', 'scheme_name': 'Roman', 'management': 'vwc', 'quantity_group': 'enough', 'source_class': 'groundwater', 'source': 'spring', 'subvillage': 'Mnyusi B', 'public_meeting': 'True', 'num_private': 0, 'latitude': -9.85632177, 'waterpoint_type_group': 'communal standpipe', 'basin': 'Lake Nyasa', 'extraction_type_class': 'gravity', 'waterpoint_type': 'communal standpipe', 'wpt_name': 'none', 'management_group': 'user-group', 'lga': 'Ludewa', 'source_type': 'spring', 'district_code': 5, 'ward': 'Mundindi', 'payment': 'pay annually', 'population': 109.0, 'date_recorded': '2011-03-14', 'extraction_type_group': 'gravity', 'region': 'Iringa', 'amount_tsh': 6000.0, 'quality_group': 'good', 'payment_type': 'annually', 'water_quality': 'soft', 'permit': 'False', 'funder': 'Roman', 'quantity': 'enough'}, {'extraction_type': 'gravity', 'region_code': 20, 'gps_height': 1399, 'recorded_by': 'GeoData Consultants Ltd', 'longitude': 34.6987661, 'construction_year': '2010', 'installer': 'GRUMETI', 'id': '8776', 'scheme_management': 'Other', 'scheme_name': '', 'management': 'wug', 'quantity_group': 'insufficient', 'source_class': 'surface', 'source': 'rainwater harvesting', 'subvillage': 'Nyamara', 'public_meeting': '', 'num_private': 0, 'latitude': -2.14746569, 'waterpoint_type_group': 'communal standpipe', 'basin': 'Lake Victoria', 'extraction_type_class': 'gravity', 'waterpoint_type': 'communal standpipe', 'wpt_name': 'Zahanati', 'management_group': 'user-group', 'lga': 'Serengeti', 'source_type': 'rainwater harvesting', 'district_code': 2, 'ward': 'Natta', 'payment': 'never pay', 'population': 280.0, 'date_recorded': '2013-03-06', 'extraction_type_group': 'gravity', 'region': 'Mara', 'amount_tsh': 0.0, 'quality_group': 'good', 'payment_type': 'never pay', 'water_quality': 'soft', 'permit': 'True', 'funder': 'Grumeti', 'quantity': 'insufficient'}]\n"
     ]
    }
   ],
   "source": [
    "sampleData = quantData(sampleData)\n",
    "print sampleData[:2]"
   ]
  },
  {
   "cell_type": "markdown",
   "metadata": {},
   "source": [
    "I think the Pandas library might be a better fit for exploring the data and has some powerful features for manipulation - here's a little example of it. However, feel free to use Numpy or whatever you are most comfortable with - I guess I'm just lazy :)"
   ]
  },
  {
   "cell_type": "code",
   "execution_count": 32,
   "metadata": {
    "collapsed": false
   },
   "outputs": [
    {
     "data": {
      "text/html": [
       "<div style=\"max-height:1000px;max-width:1500px;overflow:auto;\">\n",
       "<table border=\"1\" class=\"dataframe\">\n",
       "  <thead>\n",
       "    <tr style=\"text-align: right;\">\n",
       "      <th></th>\n",
       "      <th>amount_tsh</th>\n",
       "      <th>date_recorded</th>\n",
       "      <th>funder</th>\n",
       "      <th>gps_height</th>\n",
       "      <th>installer</th>\n",
       "      <th>longitude</th>\n",
       "      <th>latitude</th>\n",
       "      <th>wpt_name</th>\n",
       "      <th>num_private</th>\n",
       "      <th>basin</th>\n",
       "      <th>...</th>\n",
       "      <th>payment_type</th>\n",
       "      <th>water_quality</th>\n",
       "      <th>quality_group</th>\n",
       "      <th>quantity</th>\n",
       "      <th>quantity_group</th>\n",
       "      <th>source</th>\n",
       "      <th>source_type</th>\n",
       "      <th>source_class</th>\n",
       "      <th>waterpoint_type</th>\n",
       "      <th>waterpoint_type_group</th>\n",
       "    </tr>\n",
       "    <tr>\n",
       "      <th>id</th>\n",
       "      <th></th>\n",
       "      <th></th>\n",
       "      <th></th>\n",
       "      <th></th>\n",
       "      <th></th>\n",
       "      <th></th>\n",
       "      <th></th>\n",
       "      <th></th>\n",
       "      <th></th>\n",
       "      <th></th>\n",
       "      <th></th>\n",
       "      <th></th>\n",
       "      <th></th>\n",
       "      <th></th>\n",
       "      <th></th>\n",
       "      <th></th>\n",
       "      <th></th>\n",
       "      <th></th>\n",
       "      <th></th>\n",
       "      <th></th>\n",
       "      <th></th>\n",
       "    </tr>\n",
       "  </thead>\n",
       "  <tbody>\n",
       "    <tr>\n",
       "      <th>69572</th>\n",
       "      <td>6000</td>\n",
       "      <td>2011-03-14</td>\n",
       "      <td>Roman</td>\n",
       "      <td>1390</td>\n",
       "      <td>Roman</td>\n",
       "      <td>34.938093</td>\n",
       "      <td>-9.856322</td>\n",
       "      <td>none</td>\n",
       "      <td>0</td>\n",
       "      <td>Lake Nyasa</td>\n",
       "      <td>...</td>\n",
       "      <td>annually</td>\n",
       "      <td>soft</td>\n",
       "      <td>good</td>\n",
       "      <td>enough</td>\n",
       "      <td>enough</td>\n",
       "      <td>spring</td>\n",
       "      <td>spring</td>\n",
       "      <td>groundwater</td>\n",
       "      <td>communal standpipe</td>\n",
       "      <td>communal standpipe</td>\n",
       "    </tr>\n",
       "    <tr>\n",
       "      <th>8776</th>\n",
       "      <td>0</td>\n",
       "      <td>2013-03-06</td>\n",
       "      <td>Grumeti</td>\n",
       "      <td>1399</td>\n",
       "      <td>GRUMETI</td>\n",
       "      <td>34.698766</td>\n",
       "      <td>-2.147466</td>\n",
       "      <td>Zahanati</td>\n",
       "      <td>0</td>\n",
       "      <td>Lake Victoria</td>\n",
       "      <td>...</td>\n",
       "      <td>never pay</td>\n",
       "      <td>soft</td>\n",
       "      <td>good</td>\n",
       "      <td>insufficient</td>\n",
       "      <td>insufficient</td>\n",
       "      <td>rainwater harvesting</td>\n",
       "      <td>rainwater harvesting</td>\n",
       "      <td>surface</td>\n",
       "      <td>communal standpipe</td>\n",
       "      <td>communal standpipe</td>\n",
       "    </tr>\n",
       "    <tr>\n",
       "      <th>34310</th>\n",
       "      <td>25</td>\n",
       "      <td>2013-02-25</td>\n",
       "      <td>Lottery Club</td>\n",
       "      <td>686</td>\n",
       "      <td>World vision</td>\n",
       "      <td>37.460664</td>\n",
       "      <td>-3.821329</td>\n",
       "      <td>Kwa Mahundi</td>\n",
       "      <td>0</td>\n",
       "      <td>Pangani</td>\n",
       "      <td>...</td>\n",
       "      <td>per bucket</td>\n",
       "      <td>soft</td>\n",
       "      <td>good</td>\n",
       "      <td>enough</td>\n",
       "      <td>enough</td>\n",
       "      <td>dam</td>\n",
       "      <td>dam</td>\n",
       "      <td>surface</td>\n",
       "      <td>communal standpipe multiple</td>\n",
       "      <td>communal standpipe</td>\n",
       "    </tr>\n",
       "    <tr>\n",
       "      <th>67743</th>\n",
       "      <td>0</td>\n",
       "      <td>2013-01-28</td>\n",
       "      <td>Unicef</td>\n",
       "      <td>263</td>\n",
       "      <td>UNICEF</td>\n",
       "      <td>38.486161</td>\n",
       "      <td>-11.155298</td>\n",
       "      <td>Zahanati Ya Nanyumbu</td>\n",
       "      <td>0</td>\n",
       "      <td>Ruvuma / Southern Coast</td>\n",
       "      <td>...</td>\n",
       "      <td>never pay</td>\n",
       "      <td>soft</td>\n",
       "      <td>good</td>\n",
       "      <td>dry</td>\n",
       "      <td>dry</td>\n",
       "      <td>machine dbh</td>\n",
       "      <td>borehole</td>\n",
       "      <td>groundwater</td>\n",
       "      <td>communal standpipe multiple</td>\n",
       "      <td>communal standpipe</td>\n",
       "    </tr>\n",
       "    <tr>\n",
       "      <th>19728</th>\n",
       "      <td>0</td>\n",
       "      <td>2011-07-13</td>\n",
       "      <td>Action In A</td>\n",
       "      <td>0</td>\n",
       "      <td>Artisan</td>\n",
       "      <td>31.130847</td>\n",
       "      <td>-1.825359</td>\n",
       "      <td>Shuleni</td>\n",
       "      <td>0</td>\n",
       "      <td>Lake Victoria</td>\n",
       "      <td>...</td>\n",
       "      <td>never pay</td>\n",
       "      <td>soft</td>\n",
       "      <td>good</td>\n",
       "      <td>seasonal</td>\n",
       "      <td>seasonal</td>\n",
       "      <td>rainwater harvesting</td>\n",
       "      <td>rainwater harvesting</td>\n",
       "      <td>surface</td>\n",
       "      <td>communal standpipe</td>\n",
       "      <td>communal standpipe</td>\n",
       "    </tr>\n",
       "  </tbody>\n",
       "</table>\n",
       "<p>5 rows × 39 columns</p>\n",
       "</div>"
      ],
      "text/plain": [
       "       amount_tsh date_recorded        funder  gps_height     installer  \\\n",
       "id                                                                        \n",
       "69572        6000    2011-03-14         Roman        1390         Roman   \n",
       "8776            0    2013-03-06       Grumeti        1399       GRUMETI   \n",
       "34310          25    2013-02-25  Lottery Club         686  World vision   \n",
       "67743           0    2013-01-28        Unicef         263        UNICEF   \n",
       "19728           0    2011-07-13   Action In A           0       Artisan   \n",
       "\n",
       "       longitude   latitude              wpt_name  num_private  \\\n",
       "id                                                               \n",
       "69572  34.938093  -9.856322                  none            0   \n",
       "8776   34.698766  -2.147466              Zahanati            0   \n",
       "34310  37.460664  -3.821329           Kwa Mahundi            0   \n",
       "67743  38.486161 -11.155298  Zahanati Ya Nanyumbu            0   \n",
       "19728  31.130847  -1.825359               Shuleni            0   \n",
       "\n",
       "                         basin          ...          payment_type  \\\n",
       "id                                      ...                         \n",
       "69572               Lake Nyasa          ...              annually   \n",
       "8776             Lake Victoria          ...             never pay   \n",
       "34310                  Pangani          ...            per bucket   \n",
       "67743  Ruvuma / Southern Coast          ...             never pay   \n",
       "19728            Lake Victoria          ...             never pay   \n",
       "\n",
       "      water_quality  quality_group      quantity quantity_group  \\\n",
       "id                                                                \n",
       "69572          soft           good        enough         enough   \n",
       "8776           soft           good  insufficient   insufficient   \n",
       "34310          soft           good        enough         enough   \n",
       "67743          soft           good           dry            dry   \n",
       "19728          soft           good      seasonal       seasonal   \n",
       "\n",
       "                     source           source_type source_class  \\\n",
       "id                                                               \n",
       "69572                spring                spring  groundwater   \n",
       "8776   rainwater harvesting  rainwater harvesting      surface   \n",
       "34310                   dam                   dam      surface   \n",
       "67743           machine dbh              borehole  groundwater   \n",
       "19728  rainwater harvesting  rainwater harvesting      surface   \n",
       "\n",
       "                   waterpoint_type waterpoint_type_group  \n",
       "id                                                        \n",
       "69572           communal standpipe    communal standpipe  \n",
       "8776            communal standpipe    communal standpipe  \n",
       "34310  communal standpipe multiple    communal standpipe  \n",
       "67743  communal standpipe multiple    communal standpipe  \n",
       "19728           communal standpipe    communal standpipe  \n",
       "\n",
       "[5 rows x 39 columns]"
      ]
     },
     "execution_count": 32,
     "metadata": {},
     "output_type": "execute_result"
    }
   ],
   "source": [
    "from datetime import datetime, date, time\n",
    "import sys\n",
    "\n",
    "import pandas as pd\n",
    "from pandas import Series, DataFrame, Panel\n",
    "\n",
    "data = pd.read_csv(train_file, parse_dates=True,index_col='id') #read into dataframe, parse dates, and set ID as index\n",
    "data.head()"
   ]
  },
  {
   "cell_type": "code",
   "execution_count": 17,
   "metadata": {
    "collapsed": false
   },
   "outputs": [
    {
     "data": {
      "text/plain": [
       "Index([u'id', u'amount_tsh', u'date_recorded', u'funder', u'gps_height', u'installer', u'longitude', u'latitude', u'wpt_name', u'num_private', u'basin', u'subvillage', u'region', u'region_code', u'district_code', u'lga', u'ward', u'population', u'public_meeting', u'recorded_by', u'scheme_management', u'scheme_name', u'permit', u'construction_year', u'extraction_type', u'extraction_type_group', u'extraction_type_class', u'management', u'management_group', u'payment', u'payment_type', u'water_quality', u'quality_group', u'quantity', u'quantity_group', u'source', u'source_type', u'source_class', u'waterpoint_type', u'waterpoint_type_group'], dtype='object')"
      ]
     },
     "execution_count": 17,
     "metadata": {},
     "output_type": "execute_result"
    }
   ],
   "source": [
    "data.columns"
   ]
  },
  {
   "cell_type": "code",
   "execution_count": 33,
   "metadata": {
    "collapsed": false
   },
   "outputs": [
    {
     "data": {
      "text/plain": [
       "id\n",
       "69572                   roman\n",
       "8776                  grumeti\n",
       "34310            world vision\n",
       "67743                  unicef\n",
       "19728                 artisan\n",
       "9944                      dwe\n",
       "19816                    dwsp\n",
       "54551                     dwe\n",
       "53934               water aid\n",
       "46144                 artisan\n",
       "49056                 private\n",
       "50409                  danida\n",
       "36957            world vision\n",
       "50495    lawatefuka water sup\n",
       "53752                  wedeco\n",
       "61848                     dwe\n",
       "48451                     dwe\n",
       "58155                     dwe\n",
       "34169                     dwe\n",
       "18274                   danid\n",
       "48375                     twe\n",
       "6091                      dwe\n",
       "58500                     dwe\n",
       "37862                     isf\n",
       "51058                     dwe\n",
       "22308                     dwe\n",
       "55012             kilolo star\n",
       "20145                     dwe\n",
       "19685        district council\n",
       "69124    lawatefuka water sup\n",
       "                 ...         \n",
       "14796                     NaN\n",
       "20387                     dwe\n",
       "29940                     tlc\n",
       "15233                  distri\n",
       "49651                     dwe\n",
       "50998                     dwe\n",
       "34716                     NaN\n",
       "43986              government\n",
       "38067                    acra\n",
       "58255                      do\n",
       "30647                   roman\n",
       "67885                     dwe\n",
       "47002                     dwe\n",
       "44616              world bank\n",
       "72148                 concern\n",
       "34473                jaica co\n",
       "34952                     dwe\n",
       "26640                       0\n",
       "72559                     dwe\n",
       "30410                     dwe\n",
       "13677                     dwe\n",
       "44885              government\n",
       "40607              government\n",
       "48348                 private\n",
       "11164                ml appro\n",
       "60739                     ces\n",
       "27263                    cefa\n",
       "37057                     NaN\n",
       "31282                    musa\n",
       "26348                   world\n",
       "Name: installer, dtype: object"
      ]
     },
     "execution_count": 33,
     "metadata": {},
     "output_type": "execute_result"
    }
   ],
   "source": [
    "data.funder.str.lower() #set installer and funder to lower case if we want to do NLP\n",
    "data.installer.str.lower()\n",
    "#pd.isnull(data.date_recorded) #look for missing data"
   ]
  },
  {
   "cell_type": "code",
   "execution_count": null,
   "metadata": {
    "collapsed": true
   },
   "outputs": [],
   "source": []
  }
 ],
 "metadata": {
  "kernelspec": {
   "display_name": "Python 2",
   "language": "python",
   "name": "python2"
  },
  "language_info": {
   "codemirror_mode": {
    "name": "ipython",
    "version": 2
   },
   "file_extension": ".py",
   "mimetype": "text/x-python",
   "name": "python",
   "nbconvert_exporter": "python",
   "pygments_lexer": "ipython2",
   "version": "2.7.9"
  }
 },
 "nbformat": 4,
 "nbformat_minor": 0
}
