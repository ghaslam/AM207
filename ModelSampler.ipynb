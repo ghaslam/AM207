{
 "cells": [
  {
   "cell_type": "code",
   "execution_count": 1,
   "metadata": {
    "collapsed": true
   },
   "outputs": [],
   "source": [
    "import pandas as pd\n",
    "import numpy as np"
   ]
  },
  {
   "cell_type": "code",
   "execution_count": 2,
   "metadata": {
    "collapsed": true
   },
   "outputs": [],
   "source": [
    "def logprior(b, sigma2):\n",
    "    return -np.log(sigma2)\n",
    "\n",
    "def logistic(x, b):\n",
    "    #x[0]: t\n",
    "    #x[1]: h\n",
    "    #x[2]: w\n",
    "    theta = b[0] + x[0]*b[1] + x[1]*b[2] + x[2]*b[3]\n",
    "    return 0.5/(1+np.exp(theta)) + 1\n",
    "\n",
    "def loglikelihood(b, sigma2, x, y):\n",
    "    n = len(x)\n",
    "    return -n*np.log(sigma2) - 0.5*((y-logistic(x, b))**2).sum()/sigma2\n",
    "\n",
    "def logpost(b, sigma2, x, y):\n",
    "    return logprior(b, sigma2) + loglikelihood(b, sigma2, x, y)"
   ]
  },
  {
   "cell_type": "code",
   "execution_count": null,
   "metadata": {
    "collapsed": true
   },
   "outputs": [],
   "source": [
    "# mcmc algorithm\n",
    "def mcmc(b_init, sig2, x, y, opt1, opt2, N, burnin, be, sig2e):\n",
    "    B = np.zeros((N,len(b_init)))\n",
    "    Sig2 = np.zeros(N)\n",
    "    \n",
    "    b_prev = b_init\n",
    "    sig2_prev = sig2\n",
    "    count = 0\n",
    "    r = np.random.random(N)\n",
    "    \n",
    "    for i in xrange(N):\n",
    "        b_star = np.random.normal(b_prev,be)\n",
    "\n",
    "        sigma2new = abs(np.random.normal(sigma2old, sig2e))\n",
    "        \n",
    "        p = logpost(b_star, sig2_star, x, y) - logpost(b_prev, sig2_prev, x, y)\n",
    "        if np.log(r[i]) < p:\n",
    "            b_prev = b_star\n",
    "            sig2_prev = sig2_star\n",
    "            count += 1\n",
    "                           \n",
    "        B[i] = b_prev\n",
    "        Sig2[i] = sig2_prev\n",
    "    print \"The acceptance rate is \"+ str(float(count)/N)+\".\"\n",
    "    return np.vstack((B[burnin:],Sig2[burnin:]))"
   ]
  }
 ],
 "metadata": {
  "kernelspec": {
   "display_name": "Python 2",
   "language": "python",
   "name": "python2"
  },
  "language_info": {
   "codemirror_mode": {
    "name": "ipython",
    "version": 2
   },
   "file_extension": ".py",
   "mimetype": "text/x-python",
   "name": "python",
   "nbconvert_exporter": "python",
   "pygments_lexer": "ipython2",
   "version": "2.7.8"
  }
 },
 "nbformat": 4,
 "nbformat_minor": 0
}
