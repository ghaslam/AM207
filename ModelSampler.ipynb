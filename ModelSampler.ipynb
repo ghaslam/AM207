{
 "cells": [
  {
   "cell_type": "code",
   "execution_count": 3,
   "metadata": {
    "collapsed": true
   },
   "outputs": [],
   "source": [
    "import pandas as pd\n",
    "import numpy as np\n",
    "from sklearn.neighbors import KNeighborsClassifier\n",
    "import matplotlib.pyplot as plt\n",
    "%matplotlib inline"
   ]
  },
  {
   "cell_type": "code",
   "execution_count": 4,
   "metadata": {
    "collapsed": true
   },
   "outputs": [],
   "source": [
    "def logprior(b, sigma2):\n",
    "    return -np.log(sigma2)\n",
    "\n",
    "def logistic(x, b):\n",
    "    #x[0]: t\n",
    "    #x[1]: h\n",
    "    #x[2]: w\n",
    "    theta = b[0] + x[0]*b[1] + x[1]*b[2] + x[2]*b[3] + x[3]*b[4]\n",
    "    return 1.0/(1+np.exp(theta))\n",
    "\n",
    "def linear(x, b):\n",
    "    return b[0] + x[0]*b[1] + x[1]*b[2] + x[2]*b[3] + x[3]*b[4]\n",
    "\n",
    "def loglikelihood(b, sigma2, x, y):\n",
    "    n = len(x)\n",
    "    return -n*np.log(sigma2) - 0.5*((y-logistic(x, b))**2).sum()/sigma2\n",
    "\n",
    "def logpost(b, sigma2, x, y):\n",
    "    return logprior(b, sigma2) + loglikelihood(b, sigma2, x, y)"
   ]
  },
  {
   "cell_type": "code",
   "execution_count": 5,
   "metadata": {
    "collapsed": true
   },
   "outputs": [],
   "source": [
    "# mcmc algorithm\n",
    "def mcmc(b_init, sig2, x, y, N, burnin, be, sig2e):\n",
    "    nFeat = len(b_init) - 1\n",
    "    \n",
    "    B = np.zeros((N,nFeat + 1))\n",
    "    Sig2 = np.zeros(N)\n",
    "    \n",
    "    b_prev = b_init\n",
    "    sig2_prev = sig2\n",
    "    count = 0\n",
    "    r = np.random.random(N)\n",
    "    \n",
    "    for i in xrange(N):\n",
    "        b_star = np.random.normal(b_prev,be)\n",
    "\n",
    "        sig2_star = abs(np.random.normal(sig2_prev, sig2e))\n",
    "        \n",
    "        p = logpost(b_star, sig2_star, x, y) - logpost(b_prev, sig2_prev, x, y)\n",
    "        if np.log(r[i]) < p:\n",
    "            b_prev = b_star\n",
    "            sig2_prev = sig2_star\n",
    "            count += 1\n",
    "                           \n",
    "        B[i] = b_prev\n",
    "        Sig2[i] = sig2_prev\n",
    "    print \"The acceptance rate is \"+ str(float(count)/N)+\".\"\n",
    "    return B, Sig2"
   ]
  },
  {
   "cell_type": "code",
   "execution_count": 6,
   "metadata": {
    "collapsed": true
   },
   "outputs": [],
   "source": [
    "def import_data():\n",
    "    #import data and labels\n",
    "    train_data = pd.read_csv('Waterpump-training-values.csv')\n",
    "    train_labels = pd.read_csv('Waterpump-training-labels.csv')\n",
    "    \n",
    "    #separating dataset into training and testing for cross-validation - 90% into training\n",
    "    test_idx = np.random.uniform(0, 1, len(train_data)) <= 0.9\n",
    "    train = train_data[test_idx==True]\n",
    "    trainLabels = train_labels[test_idx==True]\n",
    "    test = train_data[test_idx==False]\n",
    "    testLabels = train_labels[test_idx==False]\n",
    "    \n",
    "    return train, trainLabels, test, testLabels"
   ]
  },
  {
   "cell_type": "code",
   "execution_count": 31,
   "metadata": {
    "collapsed": false
   },
   "outputs": [],
   "source": [
    "def trainKNN(train, trainLabels):\n",
    "    #trains classifier using longitude and latitude data\n",
    "    features = ['longitude','latitude']\n",
    "    trainLoc = train[features]\n",
    "    hasLocIdx = trainLoc['longitude']>1\n",
    "    trainLoc = trainLoc[hasLocIdx] #remove rows with empty location data\n",
    "    trainLabelsLoc = trainLabels[hasLocIdx] #only keep labels corresponding to rows with non-empty location data\n",
    "    \n",
    "    #train kNN classifier\n",
    "    nNeighbors = 60\n",
    "    clf = KNeighborsClassifier(n_neighbors=nNeighbors,weights='distance',algorithm='auto')\n",
    "    clf.fit(trainLoc[features], trainLabelsLoc['status_group'])\n",
    "    \n",
    "    return clf\n",
    "\n",
    "def addKNNCol(data, clf):\n",
    "    #uses trained classifier to add predictions for different classes\n",
    "    features = ['longitude','latitude']\n",
    "    probaPredict = clf.predict_proba(data[features])\n",
    "    data['knnFunctional'] = probaPredict[:,0]\n",
    "    data['knnNeedsRepair'] = probaPredict[:,1]\n",
    "    data['knnNonFunctional'] = probaPredict[:,2]\n",
    "    return data\n",
    "    \n",
    "def processAllData(train, trainLabels, test, testLabels):\n",
    "    clf = trainKNN(train, trainLabels)\n",
    "    addKNNCol(train, clf)\n",
    "    addKNNCol(test, clf)\n",
    "    \n",
    "    train, nFeatures = processData(train)\n",
    "    test, _ = processData(test)\n",
    "    \n",
    "    trainLabelsVect = pd.get_dummies(trainLabels['status_group'])\n",
    "    trainLabelsVect['functionality'] = trainLabelsVect['functional'] + 0.5*trainLabelsVect['functional needs repair']\n",
    "    \n",
    "    return train, trainLabelsVect, test, testLabels, nFeatures\n",
    "\n",
    "def processData(data):\n",
    "    features = ['age', 'gps_height', 'knnFunctional', 'knnNonFunctional']\n",
    "    nFeatures = len(features)\n",
    "    data['age'] = 2015 - data['construction_year']\n",
    "    return np.transpose(data[features].values), nFeatures"
   ]
  },
  {
   "cell_type": "code",
   "execution_count": 32,
   "metadata": {
    "collapsed": false
   },
   "outputs": [],
   "source": [
    "train, trainLabels, test, testLabels = import_data()\n",
    "train, trainLabels, test, testLabels, nFeatures = processAllData(train, trainLabels, test, testLabels)"
   ]
  },
  {
   "cell_type": "code",
   "execution_count": 24,
   "metadata": {
    "collapsed": false
   },
   "outputs": [],
   "source": [
    "numBeta = nFeatures + 1  #1 more for the constant"
   ]
  },
  {
   "cell_type": "code",
   "execution_count": null,
   "metadata": {
    "collapsed": false
   },
   "outputs": [],
   "source": [
    "B, sig2= mcmc(np.zeros(numBeta), 0.1, train, trainLabels['functionality'], 10000, 0, 0.003, 0.003)"
   ]
  },
  {
   "cell_type": "code",
   "execution_count": 85,
   "metadata": {
    "collapsed": false
   },
   "outputs": [
    {
     "data": {
      "text/plain": [
       "[<matplotlib.lines.Line2D at 0x21bf6710>]"
      ]
     },
     "execution_count": 85,
     "metadata": {},
     "output_type": "execute_result"
    },
    {
     "data": {
      "image/png": "[encoded data removed]",
      "text/plain": [
       "<matplotlib.figure.Figure at 0x21a19630>"
      ]
     },
     "metadata": {},
     "output_type": "display_data"
    }
   ],
   "source": [
    "plt.plot(B[:,0])\n",
    "plt.plot(B[:,1])\n",
    "plt.plot(B[:,2])\n",
    "plt.plot(B[:,3])\n",
    "plt.plot(B[:,4])"
   ]
  },
  {
   "cell_type": "code",
   "execution_count": 86,
   "metadata": {
    "collapsed": false
   },
   "outputs": [
    {
     "data": {
      "text/plain": [
       "[<matplotlib.lines.Line2D at 0x21ee50b8>]"
      ]
     },
     "execution_count": 86,
     "metadata": {},
     "output_type": "execute_result"
    },
    {
     "data": {
      "image/png": "[encoded data removed]",
      "text/plain": [
       "<matplotlib.figure.Figure at 0x21a24160>"
      ]
     },
     "metadata": {},
     "output_type": "display_data"
    }
   ],
   "source": [
    "plt.plot(sig2)"
   ]
  },
  {
   "cell_type": "code",
   "execution_count": 87,
   "metadata": {
    "collapsed": true
   },
   "outputs": [],
   "source": [
    "b_final = B[-1,:]"
   ]
  },
  {
   "cell_type": "code",
   "execution_count": 41,
   "metadata": {
    "collapsed": false
   },
   "outputs": [
    {
     "data": {
      "text/plain": [
       "array([ -6.99730186e-02,  -6.41988594e-04,  -2.34575944e-03,\n",
       "         1.31367565e+00,   1.50905415e+00])"
      ]
     },
     "execution_count": 41,
     "metadata": {},
     "output_type": "execute_result"
    }
   ],
   "source": [
    "b_final"
   ]
  },
  {
   "cell_type": "code",
   "execution_count": 16,
   "metadata": {
    "collapsed": true
   },
   "outputs": [],
   "source": [
    "#transforming test data\n",
    "features=['construction_year', 'gps_height']\n",
    "testFeatures = test[features]\n",
    "testFeatures['age'] = 2015 - testFeatures['construction_year']\n",
    "testFeatures = testFeatures.drop('construction_year', 1)\n",
    "probaPredictTest = clf.predict_proba(testFeatures)\n",
    "kNNFunctionalTest = probaPredict[:,0]\n",
    "knnNeedsRepairTest = probaPredict[:,1]\n",
    "kNNnonFunctionalTest = probaPredict[:,2]\n",
    "#TODO: get more meaningful data out of kNN algorithm?\n",
    "xTest = np.vstack((trainFeatures['age'],trainFeatures['gps_height'],kNNFunctionalTest,kNNnonFunctionalTest))"
   ]
  },
  {
   "cell_type": "code",
   "execution_count": 91,
   "metadata": {
    "collapsed": true
   },
   "outputs": [],
   "source": [
    "#predictions - these are the continuous values, need to convert to labels\n",
    "yPredict = logistic(xTest, b_final)"
   ]
  },
  {
   "cell_type": "code",
   "execution_count": 92,
   "metadata": {
    "collapsed": false
   },
   "outputs": [
    {
     "name": "stdout",
     "output_type": "stream",
     "text": [
      "0.17882785106\n"
     ]
    }
   ],
   "source": [
    "n = len(testLabels)\n",
    "correct = 0.0\n",
    "upBound =0.6\n",
    "lowBound = 0.4\n",
    "for yPred, label in zip(yPredict, testLabels['status_group']):\n",
    "    if yPred >= upBound and label=='functional':\n",
    "        correct += 1\n",
    "    elif yPred <= lowBound and label == 'non functional':\n",
    "        correct += 1\n",
    "    elif yPred > lowBound and yPred < upBound and label == 'functional needs repair':\n",
    "        correct += 1\n",
    "print correct/n"
   ]
  },
  {
   "cell_type": "code",
   "execution_count": 93,
   "metadata": {
    "collapsed": false
   },
   "outputs": [
    {
     "data": {
      "text/plain": [
       "(array([  5338.,   5369.,   2459.,  23088.,   8755.,   6014.,   1690.,\n",
       "           372.,    184.,    142.]),\n",
       " array([ 0.49947241,  0.52093854,  0.54240466,  0.56387079,  0.58533692,\n",
       "         0.60680305,  0.62826918,  0.64973531,  0.67120144,  0.69266756,\n",
       "         0.71413369]),\n",
       " <a list of 10 Patch objects>)"
      ]
     },
     "execution_count": 93,
     "metadata": {},
     "output_type": "execute_result"
    },
    {
     "data": {
      "image/png": "[encoded data removed]",
      "text/plain": [
       "<matplotlib.figure.Figure at 0x2206c5c0>"
      ]
     },
     "metadata": {},
     "output_type": "display_data"
    }
   ],
   "source": [
    "plt.hist(yPredict)"
   ]
  },
  {
   "cell_type": "code",
   "execution_count": 60,
   "metadata": {
    "collapsed": false
   },
   "outputs": [
    {
     "data": {
      "text/plain": [
       "59400"
      ]
     },
     "execution_count": 60,
     "metadata": {},
     "output_type": "execute_result"
    }
   ],
   "source": [
    "len(train_data)"
   ]
  },
  {
   "cell_type": "code",
   "execution_count": null,
   "metadata": {
    "collapsed": true
   },
   "outputs": [],
   "source": []
  }
 ],
 "metadata": {
  "kernelspec": {
   "display_name": "Python 2",
   "language": "python",
   "name": "python2"
  },
  "language_info": {
   "codemirror_mode": {
    "name": "ipython",
    "version": 2
   },
   "file_extension": ".py",
   "mimetype": "text/x-python",
   "name": "python",
   "nbconvert_exporter": "python",
   "pygments_lexer": "ipython2",
   "version": "2.7.8"
  }
 },
 "nbformat": 4,
 "nbformat_minor": 0
}
