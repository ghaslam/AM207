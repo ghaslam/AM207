{
 "cells": [
  {
   "cell_type": "code",
   "execution_count": 1,
   "metadata": {
    "collapsed": true
   },
   "outputs": [],
   "source": [
    "import pandas as pd\n",
    "import numpy as np"
   ]
  },
  {
   "cell_type": "code",
   "execution_count": 2,
   "metadata": {
    "collapsed": true
   },
   "outputs": [],
   "source": [
    "def logprior(b0, b1, b2, b3, sigma2):\n",
    "    return -np.log(sigma2)\n",
    "\n",
    "def logistic(t, h, w, b0, b1, b2, b3):\n",
    "    #x[0]: t\n",
    "    #x[1]: h\n",
    "    #x[2]: w\n",
    "    theta = b0 + x[0]*b1 + x[1]*b2 + x[2]*b3\n",
    "    return 0.5/(1+np.exp(theta)) + 1\n",
    "\n",
    "def loglikelihood(b0, b1, b2, b3, sigma2, x, y):\n",
    "    n = len(x)\n",
    "    return -n*np.log(sigma2) - 0.5*((y-logistic(x))**2).sum()/sigma2\n",
    "\n",
    "def logpost(b0, b1, b2, b3, sigma2, x, y):\n",
    "    return logprior(b0, b1, b2, b3, sigma2) + loglikelihood(b0, b1, b2, b3, sigma2, x, y)"
   ]
  },
  {
   "cell_type": "code",
   "execution_count": null,
   "metadata": {
    "collapsed": true
   },
   "outputs": [],
   "source": []
  }
 ],
 "metadata": {
  "kernelspec": {
   "display_name": "Python 2",
   "language": "python",
   "name": "python2"
  },
  "language_info": {
   "codemirror_mode": {
    "name": "ipython",
    "version": 2
   },
   "file_extension": ".py",
   "mimetype": "text/x-python",
   "name": "python",
   "nbconvert_exporter": "python",
   "pygments_lexer": "ipython2",
   "version": "2.7.8"
  }
 },
 "nbformat": 4,
 "nbformat_minor": 0
}
