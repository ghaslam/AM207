{
 "cells": [
  {
   "cell_type": "code",
   "execution_count": 52,
   "metadata": {
    "collapsed": true
   },
   "outputs": [],
   "source": [
    "import pandas as pd\n",
    "import numpy as np\n",
    "from sklearn.neighbors import KNeighborsClassifier\n",
    "import matplotlib.pyplot as plt\n",
    "%matplotlib inline"
   ]
  },
  {
   "cell_type": "code",
   "execution_count": 92,
   "metadata": {
    "collapsed": true
   },
   "outputs": [],
   "source": [
    "def logprior(b, sigma2):\n",
    "    return -np.log(sigma2)\n",
    "\n",
    "def logistic(x, b):\n",
    "    #x[0]: t\n",
    "    #x[1]: h\n",
    "    #x[2]: w\n",
    "    theta = b[0] + x[0]*b[1] + x[1]*b[2] + x[2]*b[3]\n",
    "    return 1.0/(1+np.exp(theta))\n",
    "\n",
    "def loglikelihood(b, sigma2, x, y):\n",
    "    n = len(x)\n",
    "    return -n*np.log(sigma2) - 0.5*((y-logistic(x, b))**2).sum()/sigma2\n",
    "\n",
    "def logpost(b, sigma2, x, y):\n",
    "    return logprior(b, sigma2) + loglikelihood(b, sigma2, x, y)"
   ]
  },
  {
   "cell_type": "code",
   "execution_count": 93,
   "metadata": {
    "collapsed": true
   },
   "outputs": [],
   "source": [
    "# mcmc algorithm\n",
    "def mcmc(b_init, sig2, x, y, N, burnin, be, sig2e):\n",
    "    B = np.zeros((N,len(b_init)))\n",
    "    Sig2 = np.zeros(N)\n",
    "    \n",
    "    b_prev = b_init\n",
    "    sig2_prev = sig2\n",
    "    count = 0\n",
    "    r = np.random.random(N)\n",
    "    \n",
    "    for i in xrange(N):\n",
    "        b_star = np.random.normal(b_prev,be)\n",
    "\n",
    "        sig2_star = abs(np.random.normal(sig2_prev, sig2e))\n",
    "        \n",
    "        p = logpost(b_star, sig2_star, x, y) - logpost(b_prev, sig2_prev, x, y)\n",
    "        if np.log(r[i]) < p:\n",
    "            b_prev = b_star\n",
    "            sig2_prev = sig2_star\n",
    "            count += 1\n",
    "                           \n",
    "        B[i] = b_prev\n",
    "        Sig2[i] = sig2_prev\n",
    "    print \"The acceptance rate is \"+ str(float(count)/N)+\".\"\n",
    "    return B, Sig2"
   ]
  },
  {
   "cell_type": "code",
   "execution_count": 5,
   "metadata": {
    "collapsed": false
   },
   "outputs": [],
   "source": [
    "#import data and labels\n",
    "train_data = pd.read_csv('Waterpump-training-values.csv')\n",
    "train_labels = pd.read_csv('Waterpump-training-labels.csv')\n",
    "\n",
    "#separating dataset into training and testing for cross-validation\n",
    "test_idx = np.random.uniform(0, 1, len(train_data)) <= 0.1\n",
    "train = train_data[test_idx==True]\n",
    "trainLabels = train_labels[test_idx==True]\n",
    "test = train_data[test_idx==False]\n",
    "testLabels = train_labels[test_idx==False]"
   ]
  },
  {
   "cell_type": "code",
   "execution_count": 13,
   "metadata": {
    "collapsed": false
   },
   "outputs": [],
   "source": [
    "features = ['longitude','latitude']\n",
    "trainLoc = train[features]\n",
    "hasLocIdx = trainLoc['longitude']>1\n",
    "trainLoc = trainLoc[hasLocIdx] #remove rows with empty location data\n",
    "trainLabelsLoc = trainLabels[hasLocIdx] #only keep labels corresponding to rows with non-empty location data"
   ]
  },
  {
   "cell_type": "code",
   "execution_count": 14,
   "metadata": {
    "collapsed": false
   },
   "outputs": [
    {
     "data": {
      "text/plain": [
       "KNeighborsClassifier(algorithm='auto', leaf_size=30, metric='minkowski',\n",
       "           metric_params=None, n_neighbors=60, p=2, weights='distance')"
      ]
     },
     "execution_count": 14,
     "metadata": {},
     "output_type": "execute_result"
    }
   ],
   "source": [
    "nNeighbors = 60\n",
    "clf = KNeighborsClassifier(n_neighbors=nNeighbors,weights='distance',algorithm='auto')\n",
    "clf.fit(trainLoc[features], trainLabelsLoc['status_group'])\n",
    "#preds = clf.predict(test[features])"
   ]
  },
  {
   "cell_type": "code",
   "execution_count": 64,
   "metadata": {
    "collapsed": true
   },
   "outputs": [],
   "source": [
    "features=['construction_year', 'gps_height']\n",
    "trainFeatures = train[features]\n",
    "trainFeatures['age'] = 2015 - trainFeatures['construction_year']\n",
    "trainFeatures = trainFeatures.drop('construction_year', 1)"
   ]
  },
  {
   "cell_type": "code",
   "execution_count": 81,
   "metadata": {
    "collapsed": false
   },
   "outputs": [],
   "source": [
    "kNNFunctional = clf.predict_proba(trainFeatures)[:,0]\n",
    "#TODO: get more meaningful data out of kNN algorithm?\n",
    "x = np.vstack((trainFeatures['age'],trainFeatures['gps_height'],kNNFunctional))"
   ]
  },
  {
   "cell_type": "code",
   "execution_count": 66,
   "metadata": {
    "collapsed": false
   },
   "outputs": [
    {
     "name": "stdout",
     "output_type": "stream",
     "text": [
      "The acceptance rate is 0.46.\n"
     ]
    }
   ],
   "source": [
    "numFeatures = 3\n",
    "numBeta = numFeatures + 1  #1 more for the constant\n",
    "#TODO: Convert labels into numbers\n",
    "trainLabelsVect = pd.get_dummies(trainLabels['status_group'])\n",
    "trainLabelsVect['functionality'] = trainLabelsVect['functional'] + 0.5*trainLabelsVect['functional needs repair']\n",
    "B, sig2= mcmc(np.zeros(numBeta), 0.2, x, trainLabelsVect['functionality'], 100, 0, 0.5, 0.5)"
   ]
  },
  {
   "cell_type": "code",
   "execution_count": 94,
   "metadata": {
    "collapsed": false
   },
   "outputs": [
    {
     "name": "stdout",
     "output_type": "stream",
     "text": [
      "The acceptance rate is 0.9312.\n"
     ]
    }
   ],
   "source": [
    "B, sig2= mcmc(np.zeros(numBeta), 0.2, x, trainLabelsVect['functionality'], 10000, 0, 0.1, 0.1)"
   ]
  },
  {
   "cell_type": "code",
   "execution_count": 99,
   "metadata": {
    "collapsed": false
   },
   "outputs": [
    {
     "data": {
      "text/plain": [
       "[<matplotlib.lines.Line2D at 0x2a7254a8>]"
      ]
     },
     "execution_count": 99,
     "metadata": {},
     "output_type": "execute_result"
    },
    {
     "data": {
      "image/png": "[encoded data removed]",
      "text/plain": [
       "<matplotlib.figure.Figure at 0x2a6691d0>"
      ]
     },
     "metadata": {},
     "output_type": "display_data"
    }
   ],
   "source": [
    "plt.plot(B[:,2])"
   ]
  },
  {
   "cell_type": "code",
   "execution_count": 100,
   "metadata": {
    "collapsed": false
   },
   "outputs": [
    {
     "data": {
      "text/plain": [
       "[<matplotlib.lines.Line2D at 0x2a9fa240>]"
      ]
     },
     "execution_count": 100,
     "metadata": {},
     "output_type": "execute_result"
    },
    {
     "data": {
      "image/png": "[encoded data removed]",
      "text/plain": [
       "<matplotlib.figure.Figure at 0x2a760390>"
      ]
     },
     "metadata": {},
     "output_type": "display_data"
    }
   ],
   "source": [
    "plt.plot(sig2)"
   ]
  },
  {
   "cell_type": "code",
   "execution_count": null,
   "metadata": {
    "collapsed": true
   },
   "outputs": [],
   "source": []
  }
 ],
 "metadata": {
  "kernelspec": {
   "display_name": "Python 2",
   "language": "python",
   "name": "python2"
  },
  "language_info": {
   "codemirror_mode": {
    "name": "ipython",
    "version": 2
   },
   "file_extension": ".py",
   "mimetype": "text/x-python",
   "name": "python",
   "nbconvert_exporter": "python",
   "pygments_lexer": "ipython2",
   "version": "2.7.8"
  }
 },
 "nbformat": 4,
 "nbformat_minor": 0
}
