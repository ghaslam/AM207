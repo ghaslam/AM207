{
 "cells": [
  {
   "cell_type": "markdown",
   "metadata": {},
   "source": [
    "#Bayesian Inference to predict water well functionality.\n",
    "\n",
    "In this notebook, we train a model using Bayesian inference and then make predictions based on this model."
   ]
  },
  {
   "cell_type": "code",
   "execution_count": 1,
   "metadata": {
    "collapsed": true
   },
   "outputs": [],
   "source": [
    "import pandas as pd\n",
    "import numpy as np\n",
    "from sklearn.neighbors import KNeighborsClassifier\n",
    "import matplotlib.pyplot as plt\n",
    "%matplotlib inline"
   ]
  },
  {
   "cell_type": "markdown",
   "metadata": {},
   "source": [
    "Below we define the model, the prior distribution for parameters, likelihood function, and the posterior distribution."
   ]
  },
  {
   "cell_type": "code",
   "execution_count": 2,
   "metadata": {
    "collapsed": true
   },
   "outputs": [],
   "source": [
    "def logprior(b, sigma2):\n",
    "    return -np.log(sigma2)\n",
    "\n",
    "def logistic(x, b):\n",
    "    theta = linear(x,b)\n",
    "    return 1.0/(1+np.exp(theta))\n",
    "\n",
    "def linear(x, b):\n",
    "    nFeat = x.shape[0]\n",
    "    y = np.zeros(x.shape[1])\n",
    "    for i in xrange(nFeat):\n",
    "        y += x[i]*b[i+1]\n",
    "    return b[0] + y\n",
    "    #return b[0] + x[0]*b[1] + x[1]*b[2] + x[2]*b[3] + x[3]*b[4]\n",
    "\n",
    "def loglikelihood(b, sigma2, x, y, model):\n",
    "    n = len(x)\n",
    "    return -n*np.log(sigma2) - 0.5*((y-model(x, b))**2).sum()/sigma2\n",
    "\n",
    "def logpost(b, sigma2, x, y, model):\n",
    "    return logprior(b, sigma2) + loglikelihood(b, sigma2, x, y, model)"
   ]
  },
  {
   "cell_type": "markdown",
   "metadata": {},
   "source": [
    "We implement the MH algorithm using both blockwise updating and componentwise updating."
   ]
  },
  {
   "cell_type": "code",
   "execution_count": 3,
   "metadata": {
    "collapsed": true
   },
   "outputs": [],
   "source": [
    "# mcmc algorithm\n",
    "def mcmc(b_init, sig2, x, y, N, burnin, be, sig2e, model):\n",
    "    #MH with blockwise updating.\n",
    "    nFeat = len(b_init) - 1\n",
    "    \n",
    "    B = np.zeros((N,nFeat + 1))\n",
    "    Sig2 = np.zeros(N)\n",
    "    \n",
    "    b_prev = b_init\n",
    "    sig2_prev = sig2\n",
    "    count = 0\n",
    "    r = np.random.random(N)\n",
    "    \n",
    "    for i in xrange(N):\n",
    "        b_star = np.random.normal(b_prev,be)\n",
    "\n",
    "        sig2_star = abs(np.random.normal(sig2_prev, sig2e))\n",
    "        \n",
    "        p = logpost(b_star, sig2_star, x, y, model) - logpost(b_prev, sig2_prev, x, y, model)\n",
    "        if np.log(r[i]) < p:\n",
    "            b_prev = b_star\n",
    "            sig2_prev = sig2_star\n",
    "            count += 1\n",
    "                           \n",
    "        B[i] = b_prev\n",
    "        Sig2[i] = sig2_prev\n",
    "    print \"The acceptance rate is \"+ str(float(count)/N)+\".\"\n",
    "    return B, Sig2"
   ]
  },
  {
   "cell_type": "code",
   "execution_count": 16,
   "metadata": {
    "collapsed": true
   },
   "outputs": [],
   "source": [
    "def mcmcComp(b_init, sig2, x, y, N, burnin, be, sig2e, model):\n",
    "    #MCMC with componentwise updating instead of block updating\n",
    "    nParam = len(b_init)\n",
    "    \n",
    "    B = np.zeros((N,nParam))\n",
    "    Sig2 = np.zeros(N)\n",
    "    \n",
    "    b_prev = b_init\n",
    "    sig2_prev = sig2\n",
    "    count = 0\n",
    "    r = np.random.random((N,nParam+1))\n",
    "    \n",
    "    for i in xrange(N):\n",
    "        #updating all the beta parameters\n",
    "        for j in xrange(nParam):\n",
    "            b_star = np.copy(b_prev)\n",
    "            b_star[j] = np.random.normal(b_prev[j],be[j])\n",
    "            p = logpost(b_star, sig2_prev, x, y, model) - logpost(b_prev, sig2_prev, x, y, model)\n",
    "            if np.log(r[i,j]) < p:\n",
    "                b_prev = b_star\n",
    "                count += 1\n",
    "        \n",
    "        #updating sig2\n",
    "        sig2_star = abs(np.random.normal(sig2_prev, sig2e))\n",
    "        p = logpost(b_prev, sig2_star, x, y, model) - logpost(b_prev, sig2_prev, x, y, model)\n",
    "        if np.log(r[i,-1]) < p:\n",
    "            sig2_prev = sig2_star\n",
    "            count += 1\n",
    "        B[i] = b_prev\n",
    "        Sig2[i] = sig2_prev\n",
    "        \n",
    "    print \"The acceptance rate is \"+ str(float(count)/(N*(nParam+1)))+\".\"\n",
    "    return B, Sig2"
   ]
  },
  {
   "cell_type": "markdown",
   "metadata": {},
   "source": [
    "Below are functions to import the data and process them for use in our MH sampler."
   ]
  },
  {
   "cell_type": "code",
   "execution_count": 4,
   "metadata": {
    "collapsed": true
   },
   "outputs": [],
   "source": [
    "def import_data():\n",
    "    \"\"\"Import data and labels and separate into training and testing data for cross-validation.\"\"\"\n",
    "    #import data and labels\n",
    "    train_data = pd.read_csv('Waterpump-training-values.csv')\n",
    "    train_labels = pd.read_csv('Waterpump-training-labels.csv')\n",
    "    \n",
    "    #separating dataset into training and testing for cross-validation - 90% into training\n",
    "    test_idx = np.random.uniform(0, 1, len(train_data)) <= 0.9\n",
    "    train = train_data[test_idx==True]\n",
    "    trainLabels = train_labels[test_idx==True]\n",
    "    test = train_data[test_idx==False]\n",
    "    testLabels = train_labels[test_idx==False]\n",
    "    \n",
    "    return train, trainLabels, test, testLabels"
   ]
  },
  {
   "cell_type": "code",
   "execution_count": 5,
   "metadata": {
    "collapsed": false
   },
   "outputs": [],
   "source": [
    "def processAllData(train, trainLabels, test, testLabels):\n",
    "    \"\"\"Process data for use in training and testing.\"\"\"\n",
    "    train, nFeatures = processData(train)\n",
    "    test, _ = processData(test)\n",
    "    \n",
    "    trainLabelsVect = pd.get_dummies(trainLabels['status_group'])\n",
    "    trainLabelsVect['functionality'] = trainLabelsVect['functional'] + 0.5*trainLabelsVect['functional needs repair']\n",
    "    \n",
    "    return train, trainLabelsVect, test, testLabels, nFeatures\n",
    "\n",
    "def processData(data):\n",
    "    \"\"\"Pick out features we want to use in our model.\"\"\"\n",
    "    features = ['longitude', 'latitude', 'age', 'gps_height', 'dry', 'population']\n",
    "    nFeatures = len(features)\n",
    "    data['age'] = 2015 - data['construction_year']\n",
    "    data['dry'] = data['quantity'] == 'dry'\n",
    "    return np.transpose(data[features].values), nFeatures"
   ]
  },
  {
   "cell_type": "markdown",
   "metadata": {},
   "source": [
    "####Blockwise Updating\n",
    "\n",
    "First we test the blockwise updating MH algorithm."
   ]
  },
  {
   "cell_type": "code",
   "execution_count": 6,
   "metadata": {
    "collapsed": false
   },
   "outputs": [],
   "source": [
    "train, trainLabels, test, testLabels = import_data()\n",
    "train, trainLabels, test, testLabels, nFeatures = processAllData(train, trainLabels, test, testLabels)"
   ]
  },
  {
   "cell_type": "code",
   "execution_count": 7,
   "metadata": {
    "collapsed": false
   },
   "outputs": [],
   "source": [
    "numBeta = nFeatures + 1  #1 more for the constant"
   ]
  },
  {
   "cell_type": "code",
   "execution_count": 8,
   "metadata": {
    "collapsed": false
   },
   "outputs": [
    {
     "name": "stdout",
     "output_type": "stream",
     "text": [
      "The acceptance rate is 0.039.\n"
     ]
    }
   ],
   "source": [
    "#blockwise updating\n",
    "model = logistic\n",
    "b_init = [-0.5, 0, 0, 0, 0, 4, 0]\n",
    "be = [0.01, 0.001, 0.001, 0.001, 0.001, 0.05, 0.001]\n",
    "B, sig2= mcmc(b_init, 1, train, trainLabels['functionality'], 1000, 0, be, 0.1, model)"
   ]
  },
  {
   "cell_type": "markdown",
   "metadata": {},
   "source": [
    "The blockwise update has an extremely low acceptance rate of 0.039, even when we start the parameters near where the componentwise updating converges. This is because we have 8 parameters!"
   ]
  },
  {
   "cell_type": "code",
   "execution_count": 9,
   "metadata": {
    "collapsed": false
   },
   "outputs": [
    {
     "data": {
      "text/plain": [
       "<matplotlib.legend.Legend at 0x1a84a0b8>"
      ]
     },
     "execution_count": 9,
     "metadata": {},
     "output_type": "execute_result"
    },
    {
     "data": {
      "image/png": "[encoded data removed]",
      "text/plain": [
       "<matplotlib.figure.Figure at 0x16c84e80>"
      ]
     },
     "metadata": {},
     "output_type": "display_data"
    }
   ],
   "source": [
    "plt.plot(B[:,0], label='b0')\n",
    "plt.plot(B[:,1], label='b1')\n",
    "plt.plot(B[:,2], label='b2')\n",
    "plt.plot(B[:,3], label='b3')\n",
    "plt.plot(B[:,4], label='b4')\n",
    "plt.plot(B[:,5], label='b5')\n",
    "plt.plot(B[:,6], label='b6')\n",
    "plt.legend()"
   ]
  },
  {
   "cell_type": "markdown",
   "metadata": {},
   "source": [
    "Now we make predictions on the withheld data with our trained parameters."
   ]
  },
  {
   "cell_type": "code",
   "execution_count": 11,
   "metadata": {
    "collapsed": true
   },
   "outputs": [],
   "source": [
    "b_final = B[-1,:]"
   ]
  },
  {
   "cell_type": "code",
   "execution_count": 14,
   "metadata": {
    "collapsed": false
   },
   "outputs": [
    {
     "data": {
      "text/plain": [
       "array([ -4.45425717e-01,   5.84763518e-03,  -2.28586481e-03,\n",
       "        -6.83379644e-06,  -8.01888365e-04,   4.16690859e+00,\n",
       "         5.94560222e-04])"
      ]
     },
     "execution_count": 14,
     "metadata": {},
     "output_type": "execute_result"
    }
   ],
   "source": [
    "b_final"
   ]
  },
  {
   "cell_type": "code",
   "execution_count": 12,
   "metadata": {
    "collapsed": true
   },
   "outputs": [],
   "source": [
    "#predictions - these are the continuous values, need to convert to labels\n",
    "yPredict = model(test, b_final)"
   ]
  },
  {
   "cell_type": "code",
   "execution_count": 13,
   "metadata": {
    "collapsed": false
   },
   "outputs": [
    {
     "name": "stdout",
     "output_type": "stream",
     "text": [
      "0.43201754386\n"
     ]
    }
   ],
   "source": [
    "n = len(testLabels)\n",
    "correct = 0.0\n",
    "upBound =0.6\n",
    "lowBound = 0.4\n",
    "for yPred, label in zip(yPredict, testLabels['status_group']):\n",
    "    if yPred >= upBound and label=='functional':\n",
    "        correct += 1\n",
    "    elif yPred <= lowBound and label == 'non functional':\n",
    "        correct += 1\n",
    "    elif yPred > lowBound and yPred < upBound and label == 'functional needs repair':\n",
    "        correct += 1\n",
    "print correct/n"
   ]
  },
  {
   "cell_type": "markdown",
   "metadata": {},
   "source": [
    "Extremely low prediction accuracy of 43%."
   ]
  },
  {
   "cell_type": "code",
   "execution_count": 111,
   "metadata": {
    "collapsed": false
   },
   "outputs": [
    {
     "data": {
      "text/plain": [
       "(array([  387.,   346.,   297.,   259.,   275.,   314.,   507.,   527.,\n",
       "          761.,  2321.]),\n",
       " array([ 0.00702402,  0.10604868,  0.20507335,  0.30409801,  0.40312268,\n",
       "         0.50214734,  0.601172  ,  0.70019667,  0.79922133,  0.89824599,\n",
       "         0.99727066]),\n",
       " <a list of 10 Patch objects>)"
      ]
     },
     "execution_count": 111,
     "metadata": {},
     "output_type": "execute_result"
    },
    {
     "data": {
      "image/png": "[encoded data removed]",
      "text/plain": [
       "<matplotlib.figure.Figure at 0x2135cc50>"
      ]
     },
     "metadata": {},
     "output_type": "display_data"
    }
   ],
   "source": [
    "###plt.hist(yPredict)"
   ]
  },
  {
   "cell_type": "markdown",
   "metadata": {},
   "source": [
    "######Componentwise Updating\n",
    "\n",
    "Now we do the same process using component-wise updating."
   ]
  },
  {
   "cell_type": "code",
   "execution_count": 20,
   "metadata": {
    "collapsed": false
   },
   "outputs": [
    {
     "name": "stdout",
     "output_type": "stream",
     "text": [
      "The acceptance rate is 0.356125.\n"
     ]
    }
   ],
   "source": [
    "#using componentwise updating\n",
    "model = logistic\n",
    "b_init = [0.5, 0, 0, 0, 0, 2, 0]\n",
    "be = [0.05, 0.1, 0.1, 0.1, 0.1, 0.1, 0.1]\n",
    "B, sig2= mcmcComp(b_init, 10, train, trainLabels['functionality'], 1000, 0, be, 0.1, model)"
   ]
  },
  {
   "cell_type": "markdown",
   "metadata": {},
   "source": [
    "We get a much higher acceptance rate of 35%! The trace plot below looks like it has approximately converged."
   ]
  },
  {
   "cell_type": "code",
   "execution_count": 21,
   "metadata": {
    "collapsed": false
   },
   "outputs": [
    {
     "data": {
      "text/plain": [
       "<matplotlib.legend.Legend at 0x1b78d0f0>"
      ]
     },
     "execution_count": 21,
     "metadata": {},
     "output_type": "execute_result"
    },
    {
     "data": {
      "image/png": "[encoded data removed]",
      "text/plain": [
       "<matplotlib.figure.Figure at 0x1791ff60>"
      ]
     },
     "metadata": {},
     "output_type": "display_data"
    }
   ],
   "source": [
    "plt.plot(B[:,0], label='b0')\n",
    "plt.plot(B[:,1], label='b1')\n",
    "plt.plot(B[:,2], label='b2')\n",
    "plt.plot(B[:,3], label='b3')\n",
    "plt.plot(B[:,4], label='b4')\n",
    "plt.plot(B[:,5], label='b5')\n",
    "plt.plot(B[:,6], label='b6')\n",
    "plt.legend()"
   ]
  },
  {
   "cell_type": "code",
   "execution_count": 22,
   "metadata": {
    "collapsed": false
   },
   "outputs": [
    {
     "name": "stdout",
     "output_type": "stream",
     "text": [
      "0.606035345115\n"
     ]
    }
   ],
   "source": [
    "b_final = B[-1,:]\n",
    "#predictions - these are the continuous values, need to convert to labels\n",
    "yPredict = model(test, b_final)\n",
    "n = len(testLabels)\n",
    "correct = 0.0\n",
    "upBound =0.6\n",
    "lowBound = 0.4\n",
    "for yPred, label in zip(yPredict, testLabels['status_group']):\n",
    "    if yPred >= upBound and label=='functional':\n",
    "        correct += 1\n",
    "    elif yPred <= lowBound and label == 'non functional':\n",
    "        correct += 1\n",
    "    elif yPred > lowBound and yPred < upBound and label == 'functional needs repair':\n",
    "        correct += 1\n",
    "print correct/n"
   ]
  },
  {
   "cell_type": "markdown",
   "metadata": {
    "collapsed": true
   },
   "source": [
    "And we get 60% prediction accuracy rate with our model."
   ]
  },
  {
   "cell_type": "code",
   "execution_count": null,
   "metadata": {
    "collapsed": true
   },
   "outputs": [],
   "source": []
  }
 ],
 "metadata": {
  "kernelspec": {
   "display_name": "Python 2",
   "language": "python",
   "name": "python2"
  },
  "language_info": {
   "codemirror_mode": {
    "name": "ipython",
    "version": 2
   },
   "file_extension": ".py",
   "mimetype": "text/x-python",
   "name": "python",
   "nbconvert_exporter": "python",
   "pygments_lexer": "ipython2",
   "version": "2.7.8"
  }
 },
 "nbformat": 4,
 "nbformat_minor": 0
}
