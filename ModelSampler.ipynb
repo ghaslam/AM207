{
 "cells": [
  {
   "cell_type": "code",
   "execution_count": 1,
   "metadata": {
    "collapsed": true
   },
   "outputs": [],
   "source": [
    "import pandas as pd\n",
    "import numpy as np\n",
    "from sklearn.neighbors import KNeighborsClassifier\n",
    "import matplotlib.pyplot as plt\n",
    "%matplotlib inline"
   ]
  },
  {
   "cell_type": "code",
   "execution_count": 2,
   "metadata": {
    "collapsed": true
   },
   "outputs": [],
   "source": [
    "def logprior(b, sigma2):\n",
    "    return -np.log(sigma2)\n",
    "\n",
    "def logistic(x, b):\n",
    "    #x[0]: t\n",
    "    #x[1]: h\n",
    "    #x[2]: w\n",
    "    theta = b[0] + x[0]*b[1] + x[1]*b[2] + x[2]*b[3] + x[3]*b[4]\n",
    "    return 1.0/(1+np.exp(theta))\n",
    "\n",
    "def loglikelihood(b, sigma2, x, y):\n",
    "    n = len(x)\n",
    "    return -n*np.log(sigma2) - 0.5*((y-logistic(x, b))**2).sum()/sigma2\n",
    "\n",
    "def logpost(b, sigma2, x, y):\n",
    "    return logprior(b, sigma2) + loglikelihood(b, sigma2, x, y)"
   ]
  },
  {
   "cell_type": "code",
   "execution_count": 3,
   "metadata": {
    "collapsed": true
   },
   "outputs": [],
   "source": [
    "# mcmc algorithm\n",
    "def mcmc(b_init, sig2, x, y, N, burnin, be, sig2e):\n",
    "    B = np.zeros((N,len(b_init)))\n",
    "    Sig2 = np.zeros(N)\n",
    "    \n",
    "    b_prev = b_init\n",
    "    sig2_prev = sig2\n",
    "    count = 0\n",
    "    r = np.random.random(N)\n",
    "    \n",
    "    for i in xrange(N):\n",
    "        b_star = np.random.normal(b_prev,be)\n",
    "\n",
    "        sig2_star = abs(np.random.normal(sig2_prev, sig2e))\n",
    "        \n",
    "        p = logpost(b_star, sig2_star, x, y) - logpost(b_prev, sig2_prev, x, y)\n",
    "        if np.log(r[i]) < p:\n",
    "            b_prev = b_star\n",
    "            sig2_prev = sig2_star\n",
    "            count += 1\n",
    "                           \n",
    "        B[i] = b_prev\n",
    "        Sig2[i] = sig2_prev\n",
    "    print \"The acceptance rate is \"+ str(float(count)/N)+\".\"\n",
    "    return B, Sig2"
   ]
  },
  {
   "cell_type": "code",
   "execution_count": 5,
   "metadata": {
    "collapsed": false
   },
   "outputs": [],
   "source": [
    "#import data and labels\n",
    "train_data = pd.read_csv('Waterpump-training-values.csv')\n",
    "train_labels = pd.read_csv('Waterpump-training-labels.csv')\n",
    "\n",
    "#separating dataset into training and testing for cross-validation - 90% into training\n",
    "test_idx = np.random.uniform(0, 1, len(train_data)) <= 0.9\n",
    "train = train_data[test_idx==True]\n",
    "trainLabels = train_labels[test_idx==True]\n",
    "test = train_data[test_idx==False]\n",
    "testLabels = train_labels[test_idx==False]"
   ]
  },
  {
   "cell_type": "code",
   "execution_count": 6,
   "metadata": {
    "collapsed": false
   },
   "outputs": [],
   "source": [
    "features = ['longitude','latitude']\n",
    "trainLoc = train[features]\n",
    "hasLocIdx = trainLoc['longitude']>1\n",
    "trainLoc = trainLoc[hasLocIdx] #remove rows with empty location data\n",
    "trainLabelsLoc = trainLabels[hasLocIdx] #only keep labels corresponding to rows with non-empty location data"
   ]
  },
  {
   "cell_type": "code",
   "execution_count": 7,
   "metadata": {
    "collapsed": false
   },
   "outputs": [
    {
     "data": {
      "text/plain": [
       "KNeighborsClassifier(algorithm='auto', leaf_size=30, metric='minkowski',\n",
       "           metric_params=None, n_neighbors=60, p=2, weights='distance')"
      ]
     },
     "execution_count": 7,
     "metadata": {},
     "output_type": "execute_result"
    }
   ],
   "source": [
    "nNeighbors = 60\n",
    "clf = KNeighborsClassifier(n_neighbors=nNeighbors,weights='distance',algorithm='auto')\n",
    "clf.fit(trainLoc[features], trainLabelsLoc['status_group'])\n",
    "#preds = clf.predict(test[features])"
   ]
  },
  {
   "cell_type": "code",
   "execution_count": 8,
   "metadata": {
    "collapsed": true
   },
   "outputs": [],
   "source": [
    "features=['construction_year', 'gps_height']\n",
    "trainFeatures = train[features]\n",
    "trainFeatures['age'] = 2015 - trainFeatures['construction_year']\n",
    "trainFeatures = trainFeatures.drop('construction_year', 1)"
   ]
  },
  {
   "cell_type": "code",
   "execution_count": 9,
   "metadata": {
    "collapsed": false
   },
   "outputs": [],
   "source": [
    "probaPredict = clf.predict_proba(trainFeatures)\n",
    "kNNFunctional = probaPredict[:,0]\n",
    "knnNeedsRepair = probaPredict[:,1]\n",
    "kNNnonFunctional = probaPredict[:,2]\n",
    "#TODO: get more meaningful data out of kNN algorithm?\n",
    "x = np.vstack((trainFeatures['age'],trainFeatures['gps_height'],kNNFunctional,kNNnonFunctional))"
   ]
  },
  {
   "cell_type": "code",
   "execution_count": 10,
   "metadata": {
    "collapsed": false
   },
   "outputs": [],
   "source": [
    "numFeatures = 4\n",
    "numBeta = numFeatures + 1  #1 more for the constant\n",
    "#TODO: Convert labels into numbers\n",
    "trainLabelsVect = pd.get_dummies(trainLabels['status_group'])\n",
    "trainLabelsVect['functionality'] = trainLabelsVect['functional'] + 0.5*trainLabelsVect['functional needs repair']"
   ]
  },
  {
   "cell_type": "code",
   "execution_count": 37,
   "metadata": {
    "collapsed": false
   },
   "outputs": [
    {
     "name": "stdout",
     "output_type": "stream",
     "text": [
      "The acceptance rate is 0.00336.\n"
     ]
    }
   ],
   "source": [
    "B, sig2= mcmc(np.zeros(numBeta), 0.2, x, trainLabelsVect['functionality'], 50000, 0, 0.1, 0.1)"
   ]
  },
  {
   "cell_type": "code",
   "execution_count": 38,
   "metadata": {
    "collapsed": false
   },
   "outputs": [
    {
     "data": {
      "text/plain": [
       "[<matplotlib.lines.Line2D at 0x1a56c5c0>]"
      ]
     },
     "execution_count": 38,
     "metadata": {},
     "output_type": "execute_result"
    },
    {
     "data": {
      "image/png": "[encoded data removed]",
      "text/plain": [
       "<matplotlib.figure.Figure at 0x1ab70828>"
      ]
     },
     "metadata": {},
     "output_type": "display_data"
    }
   ],
   "source": [
    "plt.plot(B[:,0])\n",
    "plt.plot(B[:,1])\n",
    "plt.plot(B[:,2])\n",
    "plt.plot(B[:,3])\n",
    "plt.plot(B[:,4])"
   ]
  },
  {
   "cell_type": "code",
   "execution_count": 39,
   "metadata": {
    "collapsed": false
   },
   "outputs": [
    {
     "data": {
      "text/plain": [
       "[<matplotlib.lines.Line2D at 0x1f30c240>]"
      ]
     },
     "execution_count": 39,
     "metadata": {},
     "output_type": "execute_result"
    },
    {
     "data": {
      "image/png": "[encoded data removed]",
      "text/plain": [
       "<matplotlib.figure.Figure at 0x173182e8>"
      ]
     },
     "metadata": {},
     "output_type": "display_data"
    }
   ],
   "source": [
    "plt.plot(sig2)"
   ]
  },
  {
   "cell_type": "code",
   "execution_count": 40,
   "metadata": {
    "collapsed": true
   },
   "outputs": [],
   "source": [
    "b_final = B[-1,:]"
   ]
  },
  {
   "cell_type": "code",
   "execution_count": 41,
   "metadata": {
    "collapsed": false
   },
   "outputs": [
    {
     "data": {
      "text/plain": [
       "array([ -6.99730186e-02,  -6.41988594e-04,  -2.34575944e-03,\n",
       "         1.31367565e+00,   1.50905415e+00])"
      ]
     },
     "execution_count": 41,
     "metadata": {},
     "output_type": "execute_result"
    }
   ],
   "source": [
    "b_final"
   ]
  },
  {
   "cell_type": "code",
   "execution_count": 16,
   "metadata": {
    "collapsed": true
   },
   "outputs": [],
   "source": [
    "#transforming test data\n",
    "features=['construction_year', 'gps_height']\n",
    "testFeatures = test[features]\n",
    "testFeatures['age'] = 2015 - testFeatures['construction_year']\n",
    "testFeatures = testFeatures.drop('construction_year', 1)\n",
    "probaPredictTest = clf.predict_proba(testFeatures)\n",
    "kNNFunctionalTest = probaPredict[:,0]\n",
    "knnNeedsRepairTest = probaPredict[:,1]\n",
    "kNNnonFunctionalTest = probaPredict[:,2]\n",
    "#TODO: get more meaningful data out of kNN algorithm?\n",
    "xTest = np.vstack((trainFeatures['age'],trainFeatures['gps_height'],kNNFunctionalTest,kNNnonFunctionalTest))"
   ]
  },
  {
   "cell_type": "code",
   "execution_count": 42,
   "metadata": {
    "collapsed": true
   },
   "outputs": [],
   "source": [
    "#predictions - these are the continuous values, need to convert to labels\n",
    "yPredict = logistic(xTest, b_final)"
   ]
  },
  {
   "cell_type": "code",
   "execution_count": 43,
   "metadata": {
    "collapsed": false
   },
   "outputs": [
    {
     "name": "stdout",
     "output_type": "stream",
     "text": [
      "0.311070295542\n"
     ]
    }
   ],
   "source": [
    "n = len(testLabels)\n",
    "correct = 0.0\n",
    "for yPred, label in zip(yPredict, testLabels['status_group']):\n",
    "    if yPred >= 0.66 and label=='functional':\n",
    "        correct += 1\n",
    "    elif yPred <= 0.33 and label == 'non functional':\n",
    "        correct += 1\n",
    "    elif yPred > 0.33 and yPred < 0.66 and label == 'functional needs repair':\n",
    "        correct += 1\n",
    "print correct/n"
   ]
  },
  {
   "cell_type": "code",
   "execution_count": 44,
   "metadata": {
    "collapsed": false
   },
   "outputs": [
    {
     "data": {
      "text/plain": [
       "(array([  3816.,   2821.,   2968.,   1497.,  18655.,   1467.,   2391.,\n",
       "          3921.,   8412.,   7463.]),\n",
       " array([ 0.20742442,  0.28614536,  0.3648663 ,  0.44358723,  0.52230817,\n",
       "         0.60102911,  0.67975005,  0.75847099,  0.83719193,  0.91591287,\n",
       "         0.99463381]),\n",
       " <a list of 10 Patch objects>)"
      ]
     },
     "execution_count": 44,
     "metadata": {},
     "output_type": "execute_result"
    },
    {
     "data": {
      "image/png": "[encoded data removed]",
      "text/plain": [
       "<matplotlib.figure.Figure at 0x1ab7ecf8>"
      ]
     },
     "metadata": {},
     "output_type": "display_data"
    }
   ],
   "source": [
    "plt.hist(yPredict)"
   ]
  },
  {
   "cell_type": "code",
   "execution_count": null,
   "metadata": {
    "collapsed": true
   },
   "outputs": [],
   "source": []
  }
 ],
 "metadata": {
  "kernelspec": {
   "display_name": "Python 2",
   "language": "python",
   "name": "python2"
  },
  "language_info": {
   "codemirror_mode": {
    "name": "ipython",
    "version": 2
   },
   "file_extension": ".py",
   "mimetype": "text/x-python",
   "name": "python",
   "nbconvert_exporter": "python",
   "pygments_lexer": "ipython2",
   "version": "2.7.8"
  }
 },
 "nbformat": 4,
 "nbformat_minor": 0
}
