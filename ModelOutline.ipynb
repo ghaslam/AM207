{
 "cells": [
  {
   "cell_type": "markdown",
   "metadata": {},
   "source": [
    "###Definition of the Problem:\n",
    "\n",
    "Based on a range of different independent variables such as installation date, agency, and type, can we predict whether a given water pump will be either: i) functioning, ii) in need of repair, or iii) or not functioning. Should we convert these three possibilities to a continuous distribution? \n",
    "\n",
    "$$ 0 \\leq \\text{ Not functioning } \\leq 0.33 \\leq \\text{ Needs repair }\\leq 0.66 \\leq \\text{Functioning} \\leq 1 $$"
   ]
  },
  {
   "cell_type": "markdown",
   "metadata": {},
   "source": [
    "Can we simplify the question to just a binomial distribution of Functioning/Not Functioning?\n",
    "\n",
    "Possible models:\n",
    "\n",
    "1) The probability of failure is based on a logistic function related to the age (similar to the Challenger Disaster Homework/BioAssay).\n",
    "\n",
    "2) The probability of failure is based on a linear combination of parameters (similar to the Maize Weight/Chalk).\n",
    "\n",
    "###1. Logistic Model\n",
    "\n",
    "###2. Linear Model\n",
    "Assumptions:\n",
    "\n",
    "i) at t=0, functionality (y) has an initial (low) probability of failing.\n",
    "\n",
    "ii) as time increases, probability of not functioning increases (parts decay).\n",
    "\n",
    "iii) as height increases (h), probability of not functioning increases (increasing remoteness).\n",
    "\n",
    "iv) as number of surrounding wells decreases (w), probability of not functioning increases (this is to act as a proxy for relative proximity to population centres. It could also be possible to use population as an easier way of getting this.)\n",
    "\n",
    "$y_i = \\beta_0 + t_i\\beta_1 + h_i\\beta_2 + w_i\\beta_3 + \\sigma\\epsilon_i$\n",
    "\n"
   ]
  },
  {
   "cell_type": "code",
   "execution_count": null,
   "metadata": {
    "collapsed": true
   },
   "outputs": [],
   "source": []
  }
 ],
 "metadata": {
  "kernelspec": {
   "display_name": "Python 2",
   "language": "python",
   "name": "python2"
  },
  "language_info": {
   "codemirror_mode": {
    "name": "ipython",
    "version": 2
   },
   "file_extension": ".py",
   "mimetype": "text/x-python",
   "name": "python",
   "nbconvert_exporter": "python",
   "pygments_lexer": "ipython2",
   "version": "2.7.9"
  }
 },
 "nbformat": 4,
 "nbformat_minor": 0
}
