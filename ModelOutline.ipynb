{
 "cells": [
  {
   "cell_type": "markdown",
   "metadata": {},
   "source": [
    "###Definition of the Problem:\n",
    "\n",
    "Based on a range of different independent variables such as installation date, agency, and type, can we predict whether a given water pump will be either: i) functioning, ii) in need of repair, or iii) or not functioning. Should we convert these three possibilities to a continuous distribution? \n",
    "\n",
    "$$ 0 \\leq \\text{ Not functioning } \\leq 0.33 \\leq \\text{ Needs repair }\\leq 0.66 \\leq \\text{Functioning} \\leq 1 $$"
   ]
  },
  {
   "cell_type": "markdown",
   "metadata": {},
   "source": [
    "Can we simplify the question to just a binomial distribution of Functioning/Not Functioning?\n",
    "\n",
    "Possible models:\n",
    "\n",
    "1) The probability of failure is based on an ordered logistic function related to the age etc. (similar to the Challenger Disaster Homework/BioAssay). \n",
    "\n",
    "2) The probability of failure is based on a linear combination of parameters (similar to the Maize Weight/Chalk).\n",
    "\n",
    "3) Naive Bayes Classifiers are not used because...??\n",
    "\n",
    "\n",
    "###1. Linear Model\n",
    "\n",
    "A linear model would require bounds on each of our parameters in order to obtain a score for functionality between 0 and 1.  \n",
    "\n",
    "###2. Ordered Logistic Model\n",
    "\n",
    "As opposed to the normal logistic model which only provides outcomes of either 0 or 1, the ordered inverse logistic model (ologit) can categorise outcomes into a hierarchical series of outcomes which we translate to our functionality assessment.\n",
    "\n",
    "Assumptions:\n",
    "\n",
    "i) at t=0, functionality (y) has an initial (low) probability of failing.\n",
    "\n",
    "ii) as time increases, probability of not functioning increases (parts decay).\n",
    "\n",
    "iii) as height increases (h), probability of not functioning increases (increasing remoteness).\n",
    "\n",
    "iv) as number of surrounding wells decreases (w), probability of not functioning increases (this is to act as a proxy for relative proximity to population centres. It could also be possible to use population as an easier way of getting this.)\n"
   ]
  },
  {
   "cell_type": "markdown",
   "metadata": {},
   "source": [
    "The likelihood given that our functionality score can take any value between 0 and 1, is expressed as a skewed normal distribution given the assumption that wells are more likely to be in a working state (another possibility would be a exponential inverse):\n",
    "\n",
    "$$ P(y_i| \\theta_i) = {\\rm Normal}( y_i \\vert \\theta_i)  \\,\\,\\,\\,    \\rm{for}\\,\\, i=1, \\ldots, n$$\n",
    "\n",
    "where $\\theta$ is the equipment decay rate which is modeled as a $\\rm{ologit}^{-1}$: \n",
    "\n",
    "$$\\theta_i = \\text{equipment decay rate} =  \\rm{ologit}^{-1}(\\beta_0 + t_i\\beta_1 + h_i\\beta_2 + w_i\\beta_3)$$\n"
   ]
  },
  {
   "cell_type": "markdown",
   "metadata": {},
   "source": [
    "What priors to choose for $\\beta_0, \\beta_1, \\beta_2, \\rm{and} \\, \\beta_3 \\,$? \n",
    "\n",
    "$$ p(\\beta_0) \\propto \\rm{exp}()$$\n",
    "\n",
    "$$ \\beta_1, \\beta_2, \\rm{and} \\, \\beta_3) \\propto 1 $$\n",
    "\n",
    "Posterior: \n"
   ]
  },
  {
   "cell_type": "markdown",
   "metadata": {},
   "source": [
    "Use something from here:\n",
    "http://blog.yhathq.com/posts/logistic-regression-and-python.html"
   ]
  },
  {
   "cell_type": "code",
   "execution_count": null,
   "metadata": {
    "collapsed": true
   },
   "outputs": [],
   "source": [
    "from datetime import datetime, date, time\n",
    "import sys\n",
    "\n",
    "import pandas as pd\n",
    "from pandas import Series, DataFrame, Panel\n",
    "\n",
    "data = pd.read_csv(train_file, parse_dates=True,index_col='id') #read into dataframe, parse dates, and set ID as index\n",
    "data.head(20)"
   ]
  }
 ],
 "metadata": {
  "kernelspec": {
   "display_name": "Python 2",
   "language": "python",
   "name": "python2"
  },
  "language_info": {
   "codemirror_mode": {
    "name": "ipython",
    "version": 2
   },
   "file_extension": ".py",
   "mimetype": "text/x-python",
   "name": "python",
   "nbconvert_exporter": "python",
   "pygments_lexer": "ipython2",
   "version": "2.7.9"
  }
 },
 "nbformat": 4,
 "nbformat_minor": 0
}
