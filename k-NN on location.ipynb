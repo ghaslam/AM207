{
 "cells": [
  {
   "cell_type": "markdown",
   "metadata": {},
   "source": [
    "# k-nearest neighbors (k-NN)\n",
    "Exploring k-NN algorithm on dataset, using just latitude and longitude data. This algorithm decides the calssification using the k nearest neighbors, either taking the majority classification of those neighbors or weighting their classifciations using their distance."
   ]
  },
  {
   "cell_type": "code",
   "execution_count": 17,
   "metadata": {
    "collapsed": true
   },
   "outputs": [],
   "source": [
    "from sklearn.neighbors import KNeighborsClassifier\n",
    "import pandas as pd\n",
    "import numpy as np\n",
    "import matplotlib.pylab as plt \n",
    "%matplotlib inline"
   ]
  },
  {
   "cell_type": "code",
   "execution_count": 23,
   "metadata": {
    "collapsed": true
   },
   "outputs": [],
   "source": [
    "train_file = \"WaterPump-training-values.csv\"\n",
    "train_labels = \"WaterPump-training-labels.csv\"\n",
    "test_file = \"WaterPump-test-values.csv\"\n",
    "\n",
    "df = pd.read_csv(train_file, parse_dates=True,index_col='id') #read into dataframe, parse dates, and set ID as index"
   ]
  },
  {
   "cell_type": "code",
   "execution_count": 9,
   "metadata": {
    "collapsed": true
   },
   "outputs": [],
   "source": [
    "labels = pd.read_csv(train_labels, index_col = 'id')"
   ]
  },
  {
   "cell_type": "code",
   "execution_count": 27,
   "metadata": {
    "collapsed": true
   },
   "outputs": [],
   "source": [
    "features = ['longitude','latitude']\n",
    "dfCut = df[features]"
   ]
  },
  {
   "cell_type": "code",
   "execution_count": 28,
   "metadata": {
    "collapsed": false
   },
   "outputs": [],
   "source": [
    "#separating dataset into training and testing for cross-validation\n",
    "test_idx = np.random.uniform(0, 1, len(df)) <= 0.1\n",
    "train = dfCut[test_idx==True]\n",
    "trainLabels = labels[test_idx==True]\n",
    "test = dfCut[test_idx==False]\n",
    "testLabels = labels[test_idx==False]"
   ]
  },
  {
   "cell_type": "code",
   "execution_count": 30,
   "metadata": {
    "collapsed": false
   },
   "outputs": [
    {
     "data": {
      "image/png": "[encoded data removed]",
      "text/plain": [
       "<matplotlib.figure.Figure at 0x1aa38e80>"
      ]
     },
     "metadata": {},
     "output_type": "display_data"
    }
   ],
   "source": [
    "results = []\n",
    "for n in range(21, 71, 2):\n",
    "    clf = KNeighborsClassifier(n_neighbors=n,weights='distance')\n",
    "    clf.fit(train[features], trainLabels['status_group'])\n",
    "    preds = clf.predict(test[features])\n",
    "    accuracy = np.where(preds==testLabels['status_group'], 1, 0).sum() / float(len(test))\n",
    "    #print \"Neighbors: %d, Accuracy: %3f\" % (n, accuracy)\n",
    " \n",
    "    results.append([n, accuracy])\n",
    "\n",
    "results = pd.DataFrame(results, columns=[\"n\", \"accuracy\"])\n",
    "\n",
    "plt.plot(results.n, results.accuracy)\n",
    "plt.title(\"Accuracy with Increasing K\")\n",
    "plt.show()"
   ]
  },
  {
   "cell_type": "code",
   "execution_count": 31,
   "metadata": {
    "collapsed": false
   },
   "outputs": [
    {
     "name": "stdout",
     "output_type": "stream",
     "text": [
      "[[ 0.90090996  0.02149957  0.07759046]\n",
      " [ 0.64791557  0.01630249  0.33578194]\n",
      " [ 0.53760758  0.08828581  0.37410662]\n",
      " ..., \n",
      " [ 0.51515503  0.29372389  0.19112107]\n",
      " [ 0.53723527  0.04761919  0.41514554]\n",
      " [ 0.60515664  0.04413806  0.3507053 ]]\n"
     ]
    }
   ],
   "source": [
    "print clf.predict_proba(test[features])"
   ]
  },
  {
   "cell_type": "code",
   "execution_count": 19,
   "metadata": {
    "collapsed": false
   },
   "outputs": [
    {
     "data": {
      "text/plain": [
       "array(['functional', 'functional', 'functional', ..., 'functional',\n",
       "       'non functional', 'non functional'], dtype=object)"
      ]
     },
     "execution_count": 19,
     "metadata": {},
     "output_type": "execute_result"
    }
   ],
   "source": [
    "preds"
   ]
  },
  {
   "cell_type": "code",
   "execution_count": 20,
   "metadata": {
    "collapsed": false
   },
   "outputs": [
    {
     "data": {
      "text/plain": [
       "59400"
      ]
     },
     "execution_count": 20,
     "metadata": {},
     "output_type": "execute_result"
    }
   ],
   "source": [
    "len(df)"
   ]
  },
  {
   "cell_type": "code",
   "execution_count": null,
   "metadata": {
    "collapsed": true
   },
   "outputs": [],
   "source": []
  }
 ],
 "metadata": {
  "kernelspec": {
   "display_name": "Python 2",
   "language": "python",
   "name": "python2"
  },
  "language_info": {
   "codemirror_mode": {
    "name": "ipython",
    "version": 2
   },
   "file_extension": ".py",
   "mimetype": "text/x-python",
   "name": "python",
   "nbconvert_exporter": "python",
   "pygments_lexer": "ipython2",
   "version": "2.7.8"
  }
 },
 "nbformat": 4,
 "nbformat_minor": 0
}
