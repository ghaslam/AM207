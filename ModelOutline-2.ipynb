{
 "cells": [
  {
   "cell_type": "markdown",
   "metadata": {},
   "source": [
    "###Definition of the Problem:\n",
    "\n",
    "Based on a range of different independent variables such as installation date, agency, and type, can we predict whether a given water pump will be either: i) functioning, ii) in need of repair, or iii) or not functioning. Should we convert these three possibilities to a continuous distribution? \n",
    "\n",
    "$$ 0 \\leq \\text{ Not functioning } \\leq 0.33 \\leq \\text{ Needs repair }\\leq 0.66 \\leq \\text{Functioning} \\leq 1 $$"
   ]
  },
  {
   "cell_type": "markdown",
   "metadata": {},
   "source": [
    "Can we simplify the question to just a binomial distribution of Functioning/Not Functioning?\n",
    "\n",
    "Possible models:\n",
    "\n",
    "1) The probability of failure is based on an ordered logistic function related to the age etc. (similar to the Challenger Disaster Homework/BioAssay). \n",
    "\n",
    "2) The probability of failure is based on a linear combination of parameters (similar to the Maize Weight/Chalk).\n",
    "\n",
    "3) Naive Bayes Classifiers are not used because...??\n",
    "\n",
    "\n",
    "###1. Linear Model\n",
    "\n",
    "A linear model would require bounds on each of our parameters in order to obtain a score for functionality between 0 and 1.  \n",
    "\n",
    "###2. Ordered Logistic Model\n",
    "\n",
    "As opposed to the normal logistic model which only provides outcomes of either 0 or 1, the ordered inverse logistic model (ologit) can categorise outcomes into a hierarchical series of outcomes which we translate to our functionality assessment.\n",
    "\n",
    "Assumptions:\n",
    "\n",
    "i) at t=0, functionality (y) has an initial (low) probability of failing.\n",
    "\n",
    "ii) as time increases, probability of not functioning increases (parts decay).\n",
    "\n",
    "iii) as height increases (h), probability of not functioning increases (increasing remoteness).\n",
    "\n",
    "iv) as number of surrounding wells decreases (w), probability of not functioning increases (this is to act as a proxy for relative proximity to population centres. It could also be possible to use population as an easier way of getting this.)\n"
   ]
  },
  {
   "cell_type": "markdown",
   "metadata": {},
   "source": [
    "The likelihood given that our functionality score can take any value between 0 and 1, is expressed as a skewed normal distribution given the assumption that wells are more likely to be in a working state (another possibility would be a exponential inverse):\n",
    "\n",
    "$$ P(y_i| \\theta_i) = {\\rm Normal}( y_i \\vert \\theta_i)  \\,\\,\\,\\,    \\rm{for}\\,\\, i=1, \\ldots, n$$\n",
    "\n",
    "where $\\theta$ is the equipment decay rate which is modeled as a $\\rm{ologit}^{-1}$: \n",
    "\n",
    "$$\\theta_i = \\text{equipment decay rate} =  \\rm{ologit}^{-1}(\\beta_0 + t_i\\beta_1 + h_i\\beta_2 + w_i\\beta_3)$$\n"
   ]
  },
  {
   "cell_type": "markdown",
   "metadata": {},
   "source": [
    "What priors to choose for $\\beta_0, \\beta_1, \\beta_2, \\rm{and} \\, \\beta_3 \\,$? \n",
    "\n",
    "$$ p(\\beta_0) \\propto \\rm{exp}()$$\n",
    "\n",
    "$$ \\beta_1, \\beta_2, \\rm{and} \\, \\beta_3) \\propto 1 $$\n",
    "\n",
    "Posterior: \n"
   ]
  },
  {
   "cell_type": "markdown",
   "metadata": {},
   "source": [
    "####Revised Model:\n",
    "\n",
    "Our final variable that we are predicting is $y_i$, where the following converts $y_i$ into one of the classifications:\n",
    "$$ 0 \\leq \\text{ Not functioning } \\leq 0.33 \\leq \\text{ Needs repair }\\leq 0.66 \\leq \\text{Functioning} \\leq 1 $$\n",
    "\n",
    "$y_i$ is modeled by a logistic function (other sigmoid functions can be used?) to keep it within the bounds $0 \\leq y_i \\leq 1$:\n",
    "$$y_i=\\frac{1}{2(1+e^{-\\alpha_i})}+1$$.\n",
    "$\\theta_i$ is a parameter of our model that has a probability distribution defined by $x_i$, the input features. It is the equipment decay rate, which we model as\n",
    "$\\theta_i=\\beta_0 + \\beta_0 + t_i\\beta_1 + h_i\\beta_2 + w_i\\beta_3$\n",
    "where each of $\\beta_i$ are hyperparameters."
   ]
  },
  {
   "cell_type": "markdown",
   "metadata": {},
   "source": [
    "Use something from here:\n",
    "http://blog.yhathq.com/posts/logistic-regression-and-python.html"
   ]
  },
  {
   "cell_type": "code",
   "execution_count": 16,
   "metadata": {
    "collapsed": false
   },
   "outputs": [
    {
     "data": {
      "text/html": [
       "<div style=\"max-height:1000px;max-width:1500px;overflow:auto;\">\n",
       "<table border=\"1\" class=\"dataframe\">\n",
       "  <thead>\n",
       "    <tr style=\"text-align: right;\">\n",
       "      <th></th>\n",
       "      <th>amount_tsh</th>\n",
       "      <th>date_recorded</th>\n",
       "      <th>funder</th>\n",
       "      <th>gps_height</th>\n",
       "      <th>installer</th>\n",
       "      <th>longitude</th>\n",
       "      <th>latitude</th>\n",
       "      <th>wpt_name</th>\n",
       "      <th>num_private</th>\n",
       "      <th>basin</th>\n",
       "      <th>...</th>\n",
       "      <th>payment_type</th>\n",
       "      <th>water_quality</th>\n",
       "      <th>quality_group</th>\n",
       "      <th>quantity</th>\n",
       "      <th>quantity_group</th>\n",
       "      <th>source</th>\n",
       "      <th>source_type</th>\n",
       "      <th>source_class</th>\n",
       "      <th>waterpoint_type</th>\n",
       "      <th>waterpoint_type_group</th>\n",
       "    </tr>\n",
       "    <tr>\n",
       "      <th>id</th>\n",
       "      <th></th>\n",
       "      <th></th>\n",
       "      <th></th>\n",
       "      <th></th>\n",
       "      <th></th>\n",
       "      <th></th>\n",
       "      <th></th>\n",
       "      <th></th>\n",
       "      <th></th>\n",
       "      <th></th>\n",
       "      <th></th>\n",
       "      <th></th>\n",
       "      <th></th>\n",
       "      <th></th>\n",
       "      <th></th>\n",
       "      <th></th>\n",
       "      <th></th>\n",
       "      <th></th>\n",
       "      <th></th>\n",
       "      <th></th>\n",
       "      <th></th>\n",
       "    </tr>\n",
       "  </thead>\n",
       "  <tbody>\n",
       "    <tr>\n",
       "      <th>69572</th>\n",
       "      <td> 6000</td>\n",
       "      <td> 2011-03-14</td>\n",
       "      <td>               Roman</td>\n",
       "      <td> 1390</td>\n",
       "      <td>        Roman</td>\n",
       "      <td> 34.938093</td>\n",
       "      <td> -9.856322</td>\n",
       "      <td>                 none</td>\n",
       "      <td> 0</td>\n",
       "      <td>              Lake Nyasa</td>\n",
       "      <td>...</td>\n",
       "      <td>   annually</td>\n",
       "      <td>  soft</td>\n",
       "      <td>  good</td>\n",
       "      <td>       enough</td>\n",
       "      <td>       enough</td>\n",
       "      <td>               spring</td>\n",
       "      <td>               spring</td>\n",
       "      <td> groundwater</td>\n",
       "      <td>          communal standpipe</td>\n",
       "      <td> communal standpipe</td>\n",
       "    </tr>\n",
       "    <tr>\n",
       "      <th>8776 </th>\n",
       "      <td>    0</td>\n",
       "      <td> 2013-03-06</td>\n",
       "      <td>             Grumeti</td>\n",
       "      <td> 1399</td>\n",
       "      <td>      GRUMETI</td>\n",
       "      <td> 34.698766</td>\n",
       "      <td> -2.147466</td>\n",
       "      <td>             Zahanati</td>\n",
       "      <td> 0</td>\n",
       "      <td>           Lake Victoria</td>\n",
       "      <td>...</td>\n",
       "      <td>  never pay</td>\n",
       "      <td>  soft</td>\n",
       "      <td>  good</td>\n",
       "      <td> insufficient</td>\n",
       "      <td> insufficient</td>\n",
       "      <td> rainwater harvesting</td>\n",
       "      <td> rainwater harvesting</td>\n",
       "      <td>     surface</td>\n",
       "      <td>          communal standpipe</td>\n",
       "      <td> communal standpipe</td>\n",
       "    </tr>\n",
       "    <tr>\n",
       "      <th>34310</th>\n",
       "      <td>   25</td>\n",
       "      <td> 2013-02-25</td>\n",
       "      <td>        Lottery Club</td>\n",
       "      <td>  686</td>\n",
       "      <td> World vision</td>\n",
       "      <td> 37.460664</td>\n",
       "      <td> -3.821329</td>\n",
       "      <td>          Kwa Mahundi</td>\n",
       "      <td> 0</td>\n",
       "      <td>                 Pangani</td>\n",
       "      <td>...</td>\n",
       "      <td> per bucket</td>\n",
       "      <td>  soft</td>\n",
       "      <td>  good</td>\n",
       "      <td>       enough</td>\n",
       "      <td>       enough</td>\n",
       "      <td>                  dam</td>\n",
       "      <td>                  dam</td>\n",
       "      <td>     surface</td>\n",
       "      <td> communal standpipe multiple</td>\n",
       "      <td> communal standpipe</td>\n",
       "    </tr>\n",
       "    <tr>\n",
       "      <th>67743</th>\n",
       "      <td>    0</td>\n",
       "      <td> 2013-01-28</td>\n",
       "      <td>              Unicef</td>\n",
       "      <td>  263</td>\n",
       "      <td>       UNICEF</td>\n",
       "      <td> 38.486161</td>\n",
       "      <td>-11.155298</td>\n",
       "      <td> Zahanati Ya Nanyumbu</td>\n",
       "      <td> 0</td>\n",
       "      <td> Ruvuma / Southern Coast</td>\n",
       "      <td>...</td>\n",
       "      <td>  never pay</td>\n",
       "      <td>  soft</td>\n",
       "      <td>  good</td>\n",
       "      <td>          dry</td>\n",
       "      <td>          dry</td>\n",
       "      <td>          machine dbh</td>\n",
       "      <td>             borehole</td>\n",
       "      <td> groundwater</td>\n",
       "      <td> communal standpipe multiple</td>\n",
       "      <td> communal standpipe</td>\n",
       "    </tr>\n",
       "    <tr>\n",
       "      <th>19728</th>\n",
       "      <td>    0</td>\n",
       "      <td> 2011-07-13</td>\n",
       "      <td>         Action In A</td>\n",
       "      <td>    0</td>\n",
       "      <td>      Artisan</td>\n",
       "      <td> 31.130847</td>\n",
       "      <td> -1.825359</td>\n",
       "      <td>              Shuleni</td>\n",
       "      <td> 0</td>\n",
       "      <td>           Lake Victoria</td>\n",
       "      <td>...</td>\n",
       "      <td>  never pay</td>\n",
       "      <td>  soft</td>\n",
       "      <td>  good</td>\n",
       "      <td>     seasonal</td>\n",
       "      <td>     seasonal</td>\n",
       "      <td> rainwater harvesting</td>\n",
       "      <td> rainwater harvesting</td>\n",
       "      <td>     surface</td>\n",
       "      <td>          communal standpipe</td>\n",
       "      <td> communal standpipe</td>\n",
       "    </tr>\n",
       "    <tr>\n",
       "      <th>9944 </th>\n",
       "      <td>   20</td>\n",
       "      <td> 2011-03-13</td>\n",
       "      <td> Mkinga Distric Coun</td>\n",
       "      <td>    0</td>\n",
       "      <td>          DWE</td>\n",
       "      <td> 39.172796</td>\n",
       "      <td> -4.765587</td>\n",
       "      <td>               Tajiri</td>\n",
       "      <td> 0</td>\n",
       "      <td>                 Pangani</td>\n",
       "      <td>...</td>\n",
       "      <td> per bucket</td>\n",
       "      <td> salty</td>\n",
       "      <td> salty</td>\n",
       "      <td>       enough</td>\n",
       "      <td>       enough</td>\n",
       "      <td>                other</td>\n",
       "      <td>                other</td>\n",
       "      <td>     unknown</td>\n",
       "      <td> communal standpipe multiple</td>\n",
       "      <td> communal standpipe</td>\n",
       "    </tr>\n",
       "    <tr>\n",
       "      <th>19816</th>\n",
       "      <td>    0</td>\n",
       "      <td> 2012-10-01</td>\n",
       "      <td>                Dwsp</td>\n",
       "      <td>    0</td>\n",
       "      <td>         DWSP</td>\n",
       "      <td> 33.362410</td>\n",
       "      <td> -3.766365</td>\n",
       "      <td>           Kwa Ngomho</td>\n",
       "      <td> 0</td>\n",
       "      <td>                Internal</td>\n",
       "      <td>...</td>\n",
       "      <td>  never pay</td>\n",
       "      <td>  soft</td>\n",
       "      <td>  good</td>\n",
       "      <td>       enough</td>\n",
       "      <td>       enough</td>\n",
       "      <td>          machine dbh</td>\n",
       "      <td>             borehole</td>\n",
       "      <td> groundwater</td>\n",
       "      <td>                   hand pump</td>\n",
       "      <td>          hand pump</td>\n",
       "    </tr>\n",
       "    <tr>\n",
       "      <th>54551</th>\n",
       "      <td>    0</td>\n",
       "      <td> 2012-10-09</td>\n",
       "      <td>               Rwssp</td>\n",
       "      <td>    0</td>\n",
       "      <td>          DWE</td>\n",
       "      <td> 32.620617</td>\n",
       "      <td> -4.226198</td>\n",
       "      <td>         Tushirikiane</td>\n",
       "      <td> 0</td>\n",
       "      <td>         Lake Tanganyika</td>\n",
       "      <td>...</td>\n",
       "      <td>    unknown</td>\n",
       "      <td> milky</td>\n",
       "      <td> milky</td>\n",
       "      <td>       enough</td>\n",
       "      <td>       enough</td>\n",
       "      <td>         shallow well</td>\n",
       "      <td>         shallow well</td>\n",
       "      <td> groundwater</td>\n",
       "      <td>                   hand pump</td>\n",
       "      <td>          hand pump</td>\n",
       "    </tr>\n",
       "    <tr>\n",
       "      <th>53934</th>\n",
       "      <td>    0</td>\n",
       "      <td> 2012-11-03</td>\n",
       "      <td>            Wateraid</td>\n",
       "      <td>    0</td>\n",
       "      <td>    Water Aid</td>\n",
       "      <td> 32.711100</td>\n",
       "      <td> -5.146712</td>\n",
       "      <td>    Kwa Ramadhan Musa</td>\n",
       "      <td> 0</td>\n",
       "      <td>         Lake Tanganyika</td>\n",
       "      <td>...</td>\n",
       "      <td>  never pay</td>\n",
       "      <td> salty</td>\n",
       "      <td> salty</td>\n",
       "      <td>     seasonal</td>\n",
       "      <td>     seasonal</td>\n",
       "      <td>          machine dbh</td>\n",
       "      <td>             borehole</td>\n",
       "      <td> groundwater</td>\n",
       "      <td>                   hand pump</td>\n",
       "      <td>          hand pump</td>\n",
       "    </tr>\n",
       "    <tr>\n",
       "      <th>46144</th>\n",
       "      <td>    0</td>\n",
       "      <td> 2011-08-03</td>\n",
       "      <td>         Isingiro Ho</td>\n",
       "      <td>    0</td>\n",
       "      <td>      Artisan</td>\n",
       "      <td> 30.626991</td>\n",
       "      <td> -1.257051</td>\n",
       "      <td>              Kwapeto</td>\n",
       "      <td> 0</td>\n",
       "      <td>           Lake Victoria</td>\n",
       "      <td>...</td>\n",
       "      <td>  never pay</td>\n",
       "      <td>  soft</td>\n",
       "      <td>  good</td>\n",
       "      <td>       enough</td>\n",
       "      <td>       enough</td>\n",
       "      <td>         shallow well</td>\n",
       "      <td>         shallow well</td>\n",
       "      <td> groundwater</td>\n",
       "      <td>                   hand pump</td>\n",
       "      <td>          hand pump</td>\n",
       "    </tr>\n",
       "  </tbody>\n",
       "</table>\n",
       "<p>10 rows × 39 columns</p>\n",
       "</div>"
      ],
      "text/plain": [
       "       amount_tsh date_recorded               funder  gps_height  \\\n",
       "id                                                                 \n",
       "69572        6000    2011-03-14                Roman        1390   \n",
       "8776            0    2013-03-06              Grumeti        1399   \n",
       "34310          25    2013-02-25         Lottery Club         686   \n",
       "67743           0    2013-01-28               Unicef         263   \n",
       "19728           0    2011-07-13          Action In A           0   \n",
       "9944           20    2011-03-13  Mkinga Distric Coun           0   \n",
       "19816           0    2012-10-01                 Dwsp           0   \n",
       "54551           0    2012-10-09                Rwssp           0   \n",
       "53934           0    2012-11-03             Wateraid           0   \n",
       "46144           0    2011-08-03          Isingiro Ho           0   \n",
       "\n",
       "          installer  longitude   latitude              wpt_name  num_private  \\\n",
       "id                                                                             \n",
       "69572         Roman  34.938093  -9.856322                  none            0   \n",
       "8776        GRUMETI  34.698766  -2.147466              Zahanati            0   \n",
       "34310  World vision  37.460664  -3.821329           Kwa Mahundi            0   \n",
       "67743        UNICEF  38.486161 -11.155298  Zahanati Ya Nanyumbu            0   \n",
       "19728       Artisan  31.130847  -1.825359               Shuleni            0   \n",
       "9944            DWE  39.172796  -4.765587                Tajiri            0   \n",
       "19816          DWSP  33.362410  -3.766365            Kwa Ngomho            0   \n",
       "54551           DWE  32.620617  -4.226198          Tushirikiane            0   \n",
       "53934     Water Aid  32.711100  -5.146712     Kwa Ramadhan Musa            0   \n",
       "46144       Artisan  30.626991  -1.257051               Kwapeto            0   \n",
       "\n",
       "                         basin           ...            payment_type  \\\n",
       "id                                       ...                           \n",
       "69572               Lake Nyasa           ...                annually   \n",
       "8776             Lake Victoria           ...               never pay   \n",
       "34310                  Pangani           ...              per bucket   \n",
       "67743  Ruvuma / Southern Coast           ...               never pay   \n",
       "19728            Lake Victoria           ...               never pay   \n",
       "9944                   Pangani           ...              per bucket   \n",
       "19816                 Internal           ...               never pay   \n",
       "54551          Lake Tanganyika           ...                 unknown   \n",
       "53934          Lake Tanganyika           ...               never pay   \n",
       "46144            Lake Victoria           ...               never pay   \n",
       "\n",
       "      water_quality  quality_group      quantity quantity_group  \\\n",
       "id                                                                \n",
       "69572          soft           good        enough         enough   \n",
       "8776           soft           good  insufficient   insufficient   \n",
       "34310          soft           good        enough         enough   \n",
       "67743          soft           good           dry            dry   \n",
       "19728          soft           good      seasonal       seasonal   \n",
       "9944          salty          salty        enough         enough   \n",
       "19816          soft           good        enough         enough   \n",
       "54551         milky          milky        enough         enough   \n",
       "53934         salty          salty      seasonal       seasonal   \n",
       "46144          soft           good        enough         enough   \n",
       "\n",
       "                     source           source_type source_class  \\\n",
       "id                                                               \n",
       "69572                spring                spring  groundwater   \n",
       "8776   rainwater harvesting  rainwater harvesting      surface   \n",
       "34310                   dam                   dam      surface   \n",
       "67743           machine dbh              borehole  groundwater   \n",
       "19728  rainwater harvesting  rainwater harvesting      surface   \n",
       "9944                  other                 other      unknown   \n",
       "19816           machine dbh              borehole  groundwater   \n",
       "54551          shallow well          shallow well  groundwater   \n",
       "53934           machine dbh              borehole  groundwater   \n",
       "46144          shallow well          shallow well  groundwater   \n",
       "\n",
       "                   waterpoint_type waterpoint_type_group  \n",
       "id                                                        \n",
       "69572           communal standpipe    communal standpipe  \n",
       "8776            communal standpipe    communal standpipe  \n",
       "34310  communal standpipe multiple    communal standpipe  \n",
       "67743  communal standpipe multiple    communal standpipe  \n",
       "19728           communal standpipe    communal standpipe  \n",
       "9944   communal standpipe multiple    communal standpipe  \n",
       "19816                    hand pump             hand pump  \n",
       "54551                    hand pump             hand pump  \n",
       "53934                    hand pump             hand pump  \n",
       "46144                    hand pump             hand pump  \n",
       "\n",
       "[10 rows x 39 columns]"
      ]
     },
     "execution_count": 16,
     "metadata": {},
     "output_type": "execute_result"
    }
   ],
   "source": [
    "from datetime import datetime, date, time\n",
    "import sys\n",
    "\n",
    "import pandas as pd\n",
    "from pandas import Series, DataFrame, Panel\n",
    "\n",
    "train_file = \"WaterPump-training-values.csv\"\n",
    "train_labels = \"WaterPump-training-labels.csv\"\n",
    "test_file = \"WaterPump-test-values.csv\"\n",
    "\n",
    "data = pd.read_csv(train_file, parse_dates=True,index_col='id') #read into dataframe, parse dates, and set ID as index\n",
    "data.head(10)"
   ]
  },
  {
   "cell_type": "code",
   "execution_count": 26,
   "metadata": {
    "collapsed": false
   },
   "outputs": [],
   "source": [
    "labels = pd.read_csv(train_labels, index_col = 'id')\n",
    "\n",
    "#columns to keep\n",
    "cols_to_keep = ['gps_height', 'construction_year']\n",
    "data = data[cols_to_keep]\n",
    "\n",
    "# manually add the intercept\n",
    "data['intercept'] = 1.0"
   ]
  },
  {
   "cell_type": "code",
   "execution_count": 14,
   "metadata": {
    "collapsed": false
   },
   "outputs": [
    {
     "name": "stdout",
     "output_type": "stream",
     "text": [
      "Index([u'gps_height', u'construction_year', u'intercept'], dtype='object')\n"
     ]
    }
   ],
   "source": [
    "print data.columns"
   ]
  },
  {
   "cell_type": "code",
   "execution_count": 19,
   "metadata": {
    "collapsed": false
   },
   "outputs": [
    {
     "data": {
      "text/plain": [
       "gps_height             int64\n",
       "construction_year      int64\n",
       "intercept            float64\n",
       "dtype: object"
      ]
     },
     "execution_count": 19,
     "metadata": {},
     "output_type": "execute_result"
    }
   ],
   "source": [
    "data.dtypes"
   ]
  },
  {
   "cell_type": "code",
   "execution_count": 31,
   "metadata": {
    "collapsed": false
   },
   "outputs": [
    {
     "name": "stdout",
     "output_type": "stream",
     "text": [
      "Index([u'functional', u'functional needs repair', u'non functional'], dtype='object')\n"
     ]
    }
   ],
   "source": [
    "labelsVect = pd.get_dummies(labels['status_group'])\n",
    "print labelsVect.columns"
   ]
  },
  {
   "cell_type": "code",
   "execution_count": 32,
   "metadata": {
    "collapsed": true
   },
   "outputs": [],
   "source": [
    "labelsVect['functionality'] = labelsVect['functional'] + 0.5*labelsVect['functional needs repair']"
   ]
  },
  {
   "cell_type": "code",
   "execution_count": 37,
   "metadata": {
    "collapsed": false
   },
   "outputs": [
    {
     "name": "stdout",
     "output_type": "stream",
     "text": [
      "Optimization terminated successfully.\n",
      "         Current function value: 0.672248\n",
      "         Iterations 4\n"
     ]
    }
   ],
   "source": [
    "import statsmodels.api as sm\n",
    "train_cols = data.columns[1:]\n",
    "# Index([gre, gpa, prestige_2, prestige_3, prestige_4], dtype=object)\n",
    " \n",
    "logit = sm.Logit(labelsVect['functionality'], data)\n",
    " \n",
    "# fit the model\n",
    "result = logit.fit()"
   ]
  },
  {
   "cell_type": "code",
   "execution_count": 41,
   "metadata": {
    "collapsed": false
   },
   "outputs": [],
   "source": [
    "data = pd.read_csv(train_file, parse_dates=True,index_col='id') #read into dataframe, parse dates, and set ID as index\n",
    "locData = data[['longitude','latitude']]"
   ]
  },
  {
   "cell_type": "code",
   "execution_count": 42,
   "metadata": {
    "collapsed": false
   },
   "outputs": [
    {
     "data": {
      "text/html": [
       "<div style=\"max-height:1000px;max-width:1500px;overflow:auto;\">\n",
       "<table border=\"1\" class=\"dataframe\">\n",
       "  <thead>\n",
       "    <tr style=\"text-align: right;\">\n",
       "      <th></th>\n",
       "      <th>longitude</th>\n",
       "      <th>latitude</th>\n",
       "    </tr>\n",
       "    <tr>\n",
       "      <th>id</th>\n",
       "      <th></th>\n",
       "      <th></th>\n",
       "    </tr>\n",
       "  </thead>\n",
       "  <tbody>\n",
       "    <tr>\n",
       "      <th>69572</th>\n",
       "      <td> 34.938093</td>\n",
       "      <td> -9.856322</td>\n",
       "    </tr>\n",
       "    <tr>\n",
       "      <th>8776 </th>\n",
       "      <td> 34.698766</td>\n",
       "      <td> -2.147466</td>\n",
       "    </tr>\n",
       "    <tr>\n",
       "      <th>34310</th>\n",
       "      <td> 37.460664</td>\n",
       "      <td> -3.821329</td>\n",
       "    </tr>\n",
       "    <tr>\n",
       "      <th>67743</th>\n",
       "      <td> 38.486161</td>\n",
       "      <td>-11.155298</td>\n",
       "    </tr>\n",
       "    <tr>\n",
       "      <th>19728</th>\n",
       "      <td> 31.130847</td>\n",
       "      <td> -1.825359</td>\n",
       "    </tr>\n",
       "  </tbody>\n",
       "</table>\n",
       "</div>"
      ],
      "text/plain": [
       "       longitude   latitude\n",
       "id                         \n",
       "69572  34.938093  -9.856322\n",
       "8776   34.698766  -2.147466\n",
       "34310  37.460664  -3.821329\n",
       "67743  38.486161 -11.155298\n",
       "19728  31.130847  -1.825359"
      ]
     },
     "execution_count": 42,
     "metadata": {},
     "output_type": "execute_result"
    }
   ],
   "source": [
    "locData.head(5)"
   ]
  },
  {
   "cell_type": "code",
   "execution_count": 43,
   "metadata": {
    "collapsed": true
   },
   "outputs": [],
   "source": [
    "dist = data['longitude']**2+data['latitude']**2"
   ]
  },
  {
   "cell_type": "code",
   "execution_count": 44,
   "metadata": {
    "collapsed": false
   },
   "outputs": [
    {
     "name": "stdout",
     "output_type": "stream",
     "text": [
      "id\n",
      "69572    1317.817404\n",
      "8776     1208.615978\n",
      "34310    1417.903934\n",
      "67743    1605.625247\n",
      "19728     972.461552\n",
      "dtype: float64\n"
     ]
    }
   ],
   "source": [
    "print dist.head(5)"
   ]
  },
  {
   "cell_type": "code",
   "execution_count": 50,
   "metadata": {
    "collapsed": false
   },
   "outputs": [
    {
     "data": {
      "text/plain": [
       "id\n",
       "6561     4.000000e-16\n",
       "20447    4.000000e-16\n",
       "68569    4.000000e-16\n",
       "41883    4.000000e-16\n",
       "63236    4.000000e-16\n",
       "33193    4.000000e-16\n",
       "52797    4.000000e-16\n",
       "45716    4.000000e-16\n",
       "74058    4.000000e-16\n",
       "43256    4.000000e-16\n",
       "28633    4.000000e-16\n",
       "16417    4.000000e-16\n",
       "32055    4.000000e-16\n",
       "25830    4.000000e-16\n",
       "70312    4.000000e-16\n",
       "...\n",
       "73518    1735.054127\n",
       "12547    1735.184393\n",
       "62933    1735.185269\n",
       "20666    1735.186264\n",
       "72746    1735.186659\n",
       "31454    1735.256078\n",
       "17282    1735.262702\n",
       "7759     1735.335333\n",
       "25152    1735.350887\n",
       "20120    1735.358554\n",
       "47144    1735.437606\n",
       "48316    1735.438688\n",
       "69830    1735.456795\n",
       "41000    1737.824318\n",
       "39105    1737.896098\n",
       "Length: 59400, dtype: float64"
      ]
     },
     "execution_count": 50,
     "metadata": {},
     "output_type": "execute_result"
    }
   ],
   "source": [
    "dist.order()"
   ]
  },
  {
   "cell_type": "code",
   "execution_count": 55,
   "metadata": {
    "collapsed": false
   },
   "outputs": [
    {
     "data": {
      "text/plain": [
       "'functional'"
      ]
     },
     "execution_count": 55,
     "metadata": {},
     "output_type": "execute_result"
    }
   ],
   "source": [
    "labels.ix[39105]['status_group']"
   ]
  },
  {
   "cell_type": "code",
   "execution_count": 59,
   "metadata": {
    "collapsed": false
   },
   "outputs": [
    {
     "data": {
      "text/plain": [
       "id\n",
       "6561     4.000000e-16\n",
       "20447    4.000000e-16\n",
       "68569    4.000000e-16\n",
       "41883    4.000000e-16\n",
       "63236    4.000000e-16\n",
       "dtype: float64"
      ]
     },
     "execution_count": 59,
     "metadata": {},
     "output_type": "execute_result"
    }
   ],
   "source": [
    "dist.order()[:5]"
   ]
  },
  {
   "cell_type": "code",
   "execution_count": 67,
   "metadata": {
    "collapsed": false
   },
   "outputs": [
    {
     "data": {
      "text/plain": [
       "id\n",
       "6561     4.000000e-16\n",
       "20447    4.000000e-16\n",
       "68569    4.000000e-16\n",
       "41883    4.000000e-16\n",
       "63236    4.000000e-16\n",
       "33193    4.000000e-16\n",
       "52797    4.000000e-16\n",
       "45716    4.000000e-16\n",
       "74058    4.000000e-16\n",
       "43256    4.000000e-16\n",
       "28633    4.000000e-16\n",
       "16417    4.000000e-16\n",
       "32055    4.000000e-16\n",
       "25830    4.000000e-16\n",
       "70312    4.000000e-16\n",
       "...\n",
       "73518    1735.054127\n",
       "12547    1735.184393\n",
       "62933    1735.185269\n",
       "20666    1735.186264\n",
       "72746    1735.186659\n",
       "31454    1735.256078\n",
       "17282    1735.262702\n",
       "7759     1735.335333\n",
       "25152    1735.350887\n",
       "20120    1735.358554\n",
       "47144    1735.437606\n",
       "48316    1735.438688\n",
       "69830    1735.456795\n",
       "41000    1737.824318\n",
       "39105    1737.896098\n",
       "Length: 59400, dtype: float64"
      ]
     },
     "execution_count": 67,
     "metadata": {},
     "output_type": "execute_result"
    }
   ],
   "source": [
    "dist.order()"
   ]
  },
  {
   "cell_type": "code",
   "execution_count": null,
   "metadata": {
    "collapsed": true
   },
   "outputs": [],
   "source": []
  }
 ],
 "metadata": {
  "kernelspec": {
   "display_name": "Python 2",
   "language": "python",
   "name": "python2"
  },
  "language_info": {
   "codemirror_mode": {
    "name": "ipython",
    "version": 2
   },
   "file_extension": ".py",
   "mimetype": "text/x-python",
   "name": "python",
   "nbconvert_exporter": "python",
   "pygments_lexer": "ipython2",
   "version": "2.7.8"
  }
 },
 "nbformat": 4,
 "nbformat_minor": 0
}
